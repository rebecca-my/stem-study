{
 "cells": [
  {
   "cell_type": "code",
   "execution_count": 41,
   "metadata": {},
   "outputs": [],
   "source": [
    "import warnings \n",
    "warnings.filterwarnings('ignore')\n",
    "from sk_embed_generation_draft02 import EmbeddingGenerator\n",
    "from sk_model import SkipGramModel\n",
    "import os\n",
    "import numpy as np\n",
    "import pandas as pd\n",
    "import matplotlib.pyplot as plt\n",
    "import seaborn as sb\n",
    "import itertools \n",
    "import pandas as pd\n",
    "from sklearn.naive_bayes import GaussianNB\n",
    "from sklearn.metrics import confusion_matrix, log_loss, roc_curve, auc, roc_auc_score, classification_report\n",
    "from sklearn.neighbors import KNeighborsClassifier\n",
    "from sklearn.ensemble import RandomForestClassifier"
   ]
  },
  {
   "cell_type": "code",
   "execution_count": 2,
   "metadata": {},
   "outputs": [],
   "source": [
    "stem_data = EmbeddingGenerator('/Users/rsciagli/iCloud Drive (Archive)/Documents/Documents - Rebecca’s MacBook Air/fall2020/bar/STU_CRS_TBL_full.csv',\n",
    "                              '/Users/rsciagli/iCloud Drive (Archive)/Documents/Documents - Rebecca’s MacBook Air/fall2020/bar/student_attribute_table_full.xlsx',\n",
    "                              '/Users/rsciagli/iCloud Drive (Archive)/Documents/Documents - Rebecca’s MacBook Air/fall2020/bar/STUDENT_RETENTION_TABLE_full.csv',\n",
    "                              '/Users/rsciagli/iCloud Drive (Archive)/Documents/Documents - Rebecca’s MacBook Air/fall2020/bar/stem_majors.csv')"
   ]
  },
  {
   "cell_type": "code",
   "execution_count": 3,
   "metadata": {},
   "outputs": [
    {
     "name": "stdout",
     "output_type": "stream",
     "text": [
      "Model: \"Model\"\n",
      "__________________________________________________________________________________________________\n",
      "Layer (type)                    Output Shape         Param #     Connected to                     \n",
      "==================================================================================================\n",
      "Course_ids (InputLayer)         [(None, 1)]          0                                            \n",
      "__________________________________________________________________________________________________\n",
      "Context (InputLayer)            [(None, 1)]          0                                            \n",
      "__________________________________________________________________________________________________\n",
      "Course_embedding (Embedding)    (None, 1, 78)        566670      Course_ids[0][0]                 \n",
      "__________________________________________________________________________________________________\n",
      "Context_embedding (Embedding)   (None, 1, 78)        566670      Context[0][0]                    \n",
      "__________________________________________________________________________________________________\n",
      "dot (Dot)                       (None, 1, 1)         0           Course_embedding[0][0]           \n",
      "                                                                 Context_embedding[0][0]          \n",
      "__________________________________________________________________________________________________\n",
      "tf_op_layer_Sigmoid (TensorFlow [(None, 1, 1)]       0           dot[0][0]                        \n",
      "==================================================================================================\n",
      "Total params: 1,133,340\n",
      "Trainable params: 1,133,340\n",
      "Non-trainable params: 0\n",
      "__________________________________________________________________________________________________\n",
      "None\n"
     ]
    }
   ],
   "source": [
    "model = SkipGramModel(stem_data.embedding_id, stem_data.train_students, stem_data.valid_students)"
   ]
  },
  {
   "cell_type": "code",
   "execution_count": 4,
   "metadata": {},
   "outputs": [],
   "source": [
    "## top model.load is the sample data\n",
    "model.load('/Users/rsciagli/iCloud Drive (Archive)/Documents/Documents - Rebecca’s MacBook Air/fall2020/bar/skip_gram_weights/skip_gram_78dim_lr01_sampleData.hdf5')\n",
    "\n",
    "## below model.load uses the full data\n",
    "#model.load('/Users/rsciagli/iCloud Drive (Archive)/Documents/Documents - Rebecca’s MacBook Air/fall2020/bar/skip_gram_weights/skip_gram_218dim_lr02879_fullData.hdf5')"
   ]
  },
  {
   "cell_type": "code",
   "execution_count": null,
   "metadata": {},
   "outputs": [],
   "source": [
    "#model.train(stem_data)"
   ]
  },
  {
   "cell_type": "code",
   "execution_count": null,
   "metadata": {},
   "outputs": [],
   "source": [
    "## the inference here is there is a 27% chance course 5 is taken with course 10, and a 24% chance course 6 is \n",
    "## taken with course 6\n",
    "#### is it worth plotting  ?  how can we generalize this a little to visualize it.\n",
    "#model.model.predict([np.array([[5],[6]]),np.array([[10],[6]])])"
   ]
  },
  {
   "cell_type": "code",
   "execution_count": 5,
   "metadata": {},
   "outputs": [],
   "source": [
    "## pulling out the embeddings to prep for comparing vectors using only the embeddings get_embeddings() gives \n",
    "## back embedding matrix\n",
    "#model_embeddings = model.get_embedding()\n",
    "stem_data.set_embedding(model.get_embedding())"
   ]
  },
  {
   "cell_type": "code",
   "execution_count": null,
   "metadata": {},
   "outputs": [],
   "source": [
    "# demographic_models_KNN = [KNeighborsClassifier(n_neighbors=11), KNeighborsClassifier(n_neighbors=11), \n",
    "#                       KNeighborsClassifier(n_neighbors=11), KNeighborsClassifier(n_neighbors=11)]"
   ]
  },
  {
   "cell_type": "code",
   "execution_count": null,
   "metadata": {},
   "outputs": [],
   "source": [
    "# demographic_models_NB = [GaussianNB(var_smoothing=1e1), GaussianNB(var_smoothing=1e1), \n",
    "#                         GaussianNB(var_smoothing=1e1), GaussianNB(var_smoothing=1e1)]"
   ]
  },
  {
   "cell_type": "code",
   "execution_count": null,
   "metadata": {},
   "outputs": [],
   "source": [
    "# demo_xtrain, demo_ytrain = stem_data.get_demographic('train')\n",
    "# demo_xvalid, demo_yvalid = stem_data.get_demographic('valid')"
   ]
  },
  {
   "cell_type": "code",
   "execution_count": null,
   "metadata": {},
   "outputs": [],
   "source": [
    "# demo_xvalid = demo_xvalid.reshape(-1,218)\n",
    "# demo_xtrain = demo_xtrain.reshape(-1,218)\n",
    "# demo_ytrain = demo_ytrain.reshape(-1,4)\n",
    "# demo_yvalid = demo_yvalid.reshape(-1,4)"
   ]
  },
  {
   "cell_type": "code",
   "execution_count": null,
   "metadata": {},
   "outputs": [],
   "source": [
    "# for i in range(4):\n",
    "#     demographic_models_NB[i].fit(demo_xtrain, demo_ytrain[:,i])  \n",
    "#     print(demographic_models_NB[i].score(demo_xvalid, demo_yvalid[:,i]))"
   ]
  },
  {
   "cell_type": "code",
   "execution_count": null,
   "metadata": {},
   "outputs": [],
   "source": [
    "# len(np.unique((demo_ytrain[:,0])))"
   ]
  },
  {
   "cell_type": "code",
   "execution_count": null,
   "metadata": {},
   "outputs": [],
   "source": [
    "# ethnicity_model = demographic_models_NB[0]\n",
    "# y_pred = ethnicity_model.predict(demo_xvalid)\n",
    "# y_proba = ethnicity_model.predict_proba(demo_xvalid)\n",
    "\n",
    "# ethnicity_model_confusion_matrix = pd.DataFrame(confusion_matrix(demo_yvalid[:,0], y_pred))\n",
    "# ethnicity_model_confusion_matrix"
   ]
  },
  {
   "cell_type": "code",
   "execution_count": null,
   "metadata": {},
   "outputs": [],
   "source": [
    "# ethnicity_prior_only_model = np.repeat(ethnicity_model.class_prior_.reshape(1,-1), \n",
    "#                                        len(demo_yvalid), axis=0)\n",
    "\n",
    "# print(ethnicity_prior_only_model.shape)\n",
    "# print(y_proba.shape)\n",
    "\n",
    "# print(log_loss(demo_yvalid[:,0], y_proba))\n",
    "# print(log_loss(demo_yvalid[:,0], ethnicity_prior_only_model))"
   ]
  },
  {
   "cell_type": "code",
   "execution_count": null,
   "metadata": {},
   "outputs": [],
   "source": [
    "# #plt.figure(figsize=(12,10))\n",
    "# plt.title('Ethnicity model y_pred density')\n",
    "# ethn_density = sb.distplot(y_pred)"
   ]
  },
  {
   "cell_type": "code",
   "execution_count": null,
   "metadata": {},
   "outputs": [],
   "source": [
    "# plt.title('Ethnicity model y_true density')\n",
    "# ethn_density = sb.distplot(demo_ytrain[:,0])"
   ]
  },
  {
   "cell_type": "code",
   "execution_count": null,
   "metadata": {},
   "outputs": [],
   "source": [
    "# urm_flag_model = demographic_models_NB[1]\n",
    "# y_pred = urm_flag_model.predict(demo_xvalid)\n",
    "# y_proba = urm_flag_model.predict_proba(demo_xvalid)\n",
    "\n",
    "# urm_flag_model_confusion_matrix = pd.DataFrame(confusion_matrix(demo_yvalid[:,1], y_pred))\n",
    "# urm_flag_model_confusion_matrix"
   ]
  },
  {
   "cell_type": "code",
   "execution_count": null,
   "metadata": {},
   "outputs": [],
   "source": [
    "# urm_flag_prior_only_model = np.repeat(urm_flag_model.class_prior_.reshape(1,-1), \n",
    "#                                        len(demo_yvalid), axis=0)\n",
    "\n",
    "# print(urm_flag_prior_only_model.shape)\n",
    "# print(y_proba.shape)\n",
    "\n",
    "# print(log_loss(demo_yvalid[:,1], y_proba))\n",
    "# print(log_loss(demo_yvalid[:,1], urm_flag_prior_only_model))"
   ]
  },
  {
   "cell_type": "code",
   "execution_count": null,
   "metadata": {},
   "outputs": [],
   "source": [
    "# plt.title('urm_flag model y_pred density')\n",
    "# urm_flag_density = sb.distplot(y_pred)"
   ]
  },
  {
   "cell_type": "code",
   "execution_count": null,
   "metadata": {},
   "outputs": [],
   "source": [
    "# plt.title('urm_flag model y_true density')\n",
    "# urm_flag_density = sb.distplot(demo_ytrain[:,1])"
   ]
  },
  {
   "cell_type": "code",
   "execution_count": null,
   "metadata": {},
   "outputs": [],
   "source": [
    "# gender_model = demographic_models_NB[2]\n",
    "# y_pred = gender_model.predict(demo_xvalid)\n",
    "# y_proba = gender_model.predict_proba(demo_xvalid)\n",
    "\n",
    "# gender_model_confusion_matrix = pd.DataFrame(confusion_matrix(demo_yvalid[:,2], y_pred))\n",
    "# gender_model_confusion_matrix"
   ]
  },
  {
   "cell_type": "code",
   "execution_count": null,
   "metadata": {},
   "outputs": [],
   "source": [
    "# gender_prior_only_model = np.repeat(gender_model.class_prior_.reshape(1,-1), \n",
    "#                                        len(demo_yvalid), axis=0)\n",
    "\n",
    "# print(gender_prior_only_model.shape)\n",
    "# print(y_proba.shape)\n",
    "\n",
    "# print(log_loss(demo_yvalid[:,2], y_proba))\n",
    "# print(log_loss(demo_yvalid[:,2], gender_prior_only_model))"
   ]
  },
  {
   "cell_type": "code",
   "execution_count": null,
   "metadata": {},
   "outputs": [],
   "source": [
    "# plt.title('urm_flag model y_pred density')\n",
    "# gender_density = sb.distplot(y_pred)"
   ]
  },
  {
   "cell_type": "code",
   "execution_count": null,
   "metadata": {},
   "outputs": [],
   "source": [
    "# plt.title('urm_flag model y_true density')\n",
    "# urm_flag_density = sb.distplot(demo_ytrain[:,2])"
   ]
  },
  {
   "cell_type": "code",
   "execution_count": null,
   "metadata": {},
   "outputs": [],
   "source": [
    "# pell_elig_model = demographic_models_NB[3]\n",
    "# y_pred = pell_elig_model.predict(demo_xvalid)\n",
    "# y_proba = pell_elig_model.predict_proba(demo_xvalid)\n",
    "\n",
    "# pell_elig_model_confusion_matrix = pd.DataFrame(confusion_matrix(demo_yvalid[:,3], y_pred))\n",
    "# pell_elig_model_confusion_matrix"
   ]
  },
  {
   "cell_type": "code",
   "execution_count": null,
   "metadata": {},
   "outputs": [],
   "source": [
    "# pell_elig_prior_only_model = np.repeat(pell_elig_model.class_prior_.reshape(1,-1), \n",
    "#                                        len(demo_yvalid), axis=0)\n",
    "\n",
    "# print(pell_elig_prior_only_model.shape)\n",
    "# print(y_proba.shape)\n",
    "\n",
    "# print(log_loss(demo_yvalid[:,3], y_proba))\n",
    "# print(log_loss(demo_yvalid[:,3], pell_elig_prior_only_model))"
   ]
  },
  {
   "cell_type": "code",
   "execution_count": null,
   "metadata": {},
   "outputs": [],
   "source": [
    "# plt.title('pell eligibility model y_pred density')\n",
    "# pell_elig_density = sb.distplot(y_pred)"
   ]
  },
  {
   "cell_type": "code",
   "execution_count": null,
   "metadata": {},
   "outputs": [],
   "source": [
    "# plt.title('pell eligibility model y_true density')\n",
    "# pell_elig_density = sb.distplot(demo_ytrain[:,3])"
   ]
  },
  {
   "cell_type": "code",
   "execution_count": null,
   "metadata": {},
   "outputs": [],
   "source": [
    "# ethnicity_mapping = {'Refused to Answer':'NOANSWER', 'Not Applicable':'NOANSWER', 'OTHRAMER':'Other American',\n",
    "#                     'American Indian/Alaska Native':'Native', 'Native Hawaiian/Pacific Island':'Native',\n",
    "#                     'Native Hawaiian/Oth Pac Island':'Native'}\n",
    "\n",
    "# stem_data.student_attr_df['ETHNICITY'] = stem_data.student_attr_df['ETHNICITY'].replace(ethnicity_mapping)"
   ]
  },
  {
   "cell_type": "code",
   "execution_count": null,
   "metadata": {},
   "outputs": [],
   "source": [
    "# print(stem_data.student_attr_df['ETHNICITY'].isnull().value_counts())\n",
    "# stem_data.student_attr_df['ETHNICITY'].nunique()\n",
    "# stem_data.student_attr_df['ETHNICITY'].count()\n",
    "# stem_data.student_attr_df['ETHNICITY'].value_counts()"
   ]
  },
  {
   "cell_type": "code",
   "execution_count": null,
   "metadata": {},
   "outputs": [],
   "source": [
    "# print(stem_data.student_attr_df['URM_FLAG'].value_counts())\n",
    "# for i in stem_data.student_attr_df['URM_FLAG'].value_counts():\n",
    "#     print(i/stem_data.student_attr_df['URM_FLAG'].count())"
   ]
  },
  {
   "cell_type": "code",
   "execution_count": null,
   "metadata": {},
   "outputs": [],
   "source": [
    "# print(stem_data.student_attr_df['GENDER'].value_counts())\n",
    "# for i in stem_data.student_attr_df['GENDER'].value_counts():\n",
    "#     print(i/stem_data.student_attr_df['GENDER'].count())\n",
    "# student_retention = pd.read_csv('/Users/rsciagli/iCloud Drive (Archive)/Documents/Documents - Rebecca’s MacBook Air/fall2020/bar/STUDENT_RETENTION_TABLE_full.csv')"
   ]
  },
  {
   "cell_type": "code",
   "execution_count": null,
   "metadata": {},
   "outputs": [],
   "source": [
    "##### this has been revamped and moved to .py file\n",
    "# def retention_helper(df):\n",
    "#     #display(df)\n",
    "#     last_major = df[['BA_DEGREE_RECEIVED','DEGREE_MAJOR1','DEGREE_MAJOR2','DEGREE_MAJOR3']].ffill().iloc[-1]\n",
    "#     first_major = df[['DEGREE_MAJOR1','DEGREE_MAJOR2','DEGREE_MAJOR3']].bfill().iloc[0].rename({'DEGREE_MAJOR1' : 'INIT_MAJOR1',\n",
    "#                                                                                                 'DEGREE_MAJOR2' : 'INIT_MAJOR2',\n",
    "#                                                                                                 'DEGREE_MAJOR3' : 'INIT_MAJOR3'})\n",
    "#     return pd.concat([first_major, last_major])\n",
    "# #majors = stem_data.stu_retention_df.iloc[:100].groupby('PRSN_UNIV_ID').apply(retention_helper).head()\n",
    "# #majors[majors['INIT_MAJOR1'] != majors['DEGREE_MAJOR1']]\n",
    "# fake_student = student_retention[student_retention['PRSN_UNIV_ID']==127265]\n",
    "# print(fake_student.columns)\n",
    "# fake_student.iloc[0,8] = 'test'\n",
    "# retention_helper(fake_student)"
   ]
  },
  {
   "cell_type": "code",
   "execution_count": null,
   "metadata": {},
   "outputs": [],
   "source": [
    "## has been moved to .py\n",
    "# stem_data.stu_retention_df['STEM_end'] = np.logical_or(stem_data.stu_retention_df['DEGREE_MAJOR1'].isin(stem_data.stem_major_df),\n",
    "#              stem_data.stu_retention_df['DEGREE_MAJOR2'].isin(stem_data.stem_major_df))\n",
    "\n",
    "# stem_data.stu_retention_df['STEM_end'] = np.logical_or(stem_data.stu_retention_df['STEM_end'],\n",
    "#                                         stem_data.stu_retention_df['DEGREE_MAJOR3'].isin(stem_data.stem_major_df))"
   ]
  },
  {
   "cell_type": "code",
   "execution_count": null,
   "metadata": {},
   "outputs": [],
   "source": [
    "#stem_data.stu_retention_df.reset_index()"
   ]
  },
  {
   "cell_type": "code",
   "execution_count": null,
   "metadata": {},
   "outputs": [],
   "source": [
    "#print(stem_data.stem_major_df)\n",
    "# list(stem_data.stu_retention_df['DEGREE_MAJOR1'].unique())\n",
    "# info_major = np.where(stem_data.stu_retention_df['DEGREE_MAJOR1'] == 'Informatics BS')\n",
    "# stem_data.stu_retention_df.iloc[info_major]['DEGREE_MAJOR1'].isin(stem_data.stem_major_df['STEM MAJORS'])"
   ]
  },
  {
   "cell_type": "code",
   "execution_count": null,
   "metadata": {},
   "outputs": [],
   "source": [
    "#stem_data.stem_major_df"
   ]
  },
  {
   "cell_type": "code",
   "execution_count": null,
   "metadata": {},
   "outputs": [],
   "source": [
    "## has been moved to .py\n",
    "# stu_attribute_and_retention_df = pd.merge(stem_data.student_attr_df, stem_data.stu_retention_df.reset_index(), how = 'left',\n",
    "#                                     left_on = 'PRSN_UNIV_ID', right_on = 'PRSN_UNIV_ID')"
   ]
  },
  {
   "cell_type": "code",
   "execution_count": 6,
   "metadata": {},
   "outputs": [
    {
     "data": {
      "text/plain": [
       "Index(['COHORT_SP_FA', 'COHORT_TERM_CD', 'COHORT_TERM_DESC',\n",
       "       'ENTRY_ACADEMIC_LOAD', 'ENTRY_AGE', 'ENTRY_GPA', 'ENTRY_SCHOOL',\n",
       "       'ENTRY_INTENDED_SCHOOL', 'ENTRY_PROGRAM', 'ENTRY_MAJOR_CODE',\n",
       "       'ENTRY_MAJOR_DESC', 'ENTRY_UNITS', 'ETHNICITY', 'URM_FLAG',\n",
       "       'FIRST_GENERATION', 'GENDER', 'HIGH_SCHOOL_GPA', 'NEW_STUDENT_CATEGORY',\n",
       "       'PELL_ELIGIBILITY', 'PRSN_UNIV_ID', 'RESIDENCY', 'SAT_ACT_INDICATOR',\n",
       "       'SAT_DRVD_COMPOSITE_SCORE_2019', 'TWNTYFRST_CENT_AWARD',\n",
       "       'TWNTYFRST_CENT_SCHOLAR', 'CLASS_LEVEL', 'ENTRY_INTENDED_SCHOOL1',\n",
       "       'ADMIT_STATUS', 'CERT_TERM_CD', 'TIME_2_CERT', 'STEM_start',\n",
       "       'urm_flag_id', 'gender_id', 'pell_eligibility_id', 'INIT_MAJOR1',\n",
       "       'INIT_MAJOR2', 'INIT_MAJOR3', 'BA_DEGREE_RECEIVED', 'DEGREE_MAJOR1',\n",
       "       'DEGREE_MAJOR2', 'DEGREE_MAJOR3', 'STEM_end', 'MAINTAINED_MAJOR'],\n",
       "      dtype='object')"
      ]
     },
     "execution_count": 6,
     "metadata": {},
     "output_type": "execute_result"
    }
   ],
   "source": [
    "stem_data.stu_attribute_and_retention_df.columns"
   ]
  },
  {
   "cell_type": "code",
   "execution_count": null,
   "metadata": {},
   "outputs": [],
   "source": [
    "# i = stu_attribute_and_retention_df['ENTRY_MAJOR_DESC'] == stu_attribute_and_retention_df['DEGREE_MAJOR1']\n",
    "# j = stu_attribute_and_retention_df['ENTRY_MAJOR_DESC'] == stu_attribute_and_retention_df['DEGREE_MAJOR2']\n",
    "# k = stu_attribute_and_retention_df['ENTRY_MAJOR_DESC'] == stu_attribute_and_retention_df['DEGREE_MAJOR3']\n",
    "# stu_attribute_and_retention_df['MAINTAINED_MAJOR'] = np.logical_or(i, np.logical_or(j, k))"
   ]
  },
  {
   "cell_type": "code",
   "execution_count": 7,
   "metadata": {},
   "outputs": [
    {
     "data": {
      "text/html": [
       "<div>\n",
       "<style scoped>\n",
       "    .dataframe tbody tr th:only-of-type {\n",
       "        vertical-align: middle;\n",
       "    }\n",
       "\n",
       "    .dataframe tbody tr th {\n",
       "        vertical-align: top;\n",
       "    }\n",
       "\n",
       "    .dataframe thead th {\n",
       "        text-align: right;\n",
       "    }\n",
       "</style>\n",
       "<table border=\"1\" class=\"dataframe\">\n",
       "  <thead>\n",
       "    <tr style=\"text-align: right;\">\n",
       "      <th></th>\n",
       "      <th>COHORT_SP_FA</th>\n",
       "      <th>COHORT_TERM_CD</th>\n",
       "      <th>COHORT_TERM_DESC</th>\n",
       "      <th>ENTRY_ACADEMIC_LOAD</th>\n",
       "      <th>ENTRY_AGE</th>\n",
       "      <th>ENTRY_GPA</th>\n",
       "      <th>ENTRY_SCHOOL</th>\n",
       "      <th>ENTRY_INTENDED_SCHOOL</th>\n",
       "      <th>ENTRY_PROGRAM</th>\n",
       "      <th>ENTRY_MAJOR_CODE</th>\n",
       "      <th>...</th>\n",
       "      <th>pell_eligibility_id</th>\n",
       "      <th>INIT_MAJOR1</th>\n",
       "      <th>INIT_MAJOR2</th>\n",
       "      <th>INIT_MAJOR3</th>\n",
       "      <th>BA_DEGREE_RECEIVED</th>\n",
       "      <th>DEGREE_MAJOR1</th>\n",
       "      <th>DEGREE_MAJOR2</th>\n",
       "      <th>DEGREE_MAJOR3</th>\n",
       "      <th>STEM_end</th>\n",
       "      <th>MAINTAINED_MAJOR</th>\n",
       "    </tr>\n",
       "  </thead>\n",
       "  <tbody>\n",
       "    <tr>\n",
       "      <th>0</th>\n",
       "      <td>Fall</td>\n",
       "      <td>4068</td>\n",
       "      <td>Fall 2006</td>\n",
       "      <td>F</td>\n",
       "      <td>31</td>\n",
       "      <td>3.925</td>\n",
       "      <td>SCS</td>\n",
       "      <td>SCS</td>\n",
       "      <td>SCS1</td>\n",
       "      <td>GENSTBGS</td>\n",
       "      <td>...</td>\n",
       "      <td>0</td>\n",
       "      <td>History BA</td>\n",
       "      <td>NaN</td>\n",
       "      <td>NaN</td>\n",
       "      <td>1.0</td>\n",
       "      <td>History BA</td>\n",
       "      <td>NaN</td>\n",
       "      <td>NaN</td>\n",
       "      <td>False</td>\n",
       "      <td>False</td>\n",
       "    </tr>\n",
       "    <tr>\n",
       "      <th>1</th>\n",
       "      <td>Fall</td>\n",
       "      <td>4068</td>\n",
       "      <td>Fall 2006</td>\n",
       "      <td>F</td>\n",
       "      <td>19</td>\n",
       "      <td>2.700</td>\n",
       "      <td>COLL</td>\n",
       "      <td>COLL</td>\n",
       "      <td>COLL1</td>\n",
       "      <td>CMCLBA</td>\n",
       "      <td>...</td>\n",
       "      <td>1</td>\n",
       "      <td>Communication &amp; Culture BA</td>\n",
       "      <td>NaN</td>\n",
       "      <td>NaN</td>\n",
       "      <td>1.0</td>\n",
       "      <td>Communication &amp; Culture BA</td>\n",
       "      <td>NaN</td>\n",
       "      <td>NaN</td>\n",
       "      <td>False</td>\n",
       "      <td>True</td>\n",
       "    </tr>\n",
       "    <tr>\n",
       "      <th>2</th>\n",
       "      <td>Fall</td>\n",
       "      <td>4068</td>\n",
       "      <td>Fall 2006</td>\n",
       "      <td>F</td>\n",
       "      <td>18</td>\n",
       "      <td>0.000</td>\n",
       "      <td>BUS</td>\n",
       "      <td>BUS</td>\n",
       "      <td>BUS1</td>\n",
       "      <td>BUSBSB</td>\n",
       "      <td>...</td>\n",
       "      <td>1</td>\n",
       "      <td>Finance BSB</td>\n",
       "      <td>Accounting BSB</td>\n",
       "      <td>NaN</td>\n",
       "      <td>1.0</td>\n",
       "      <td>Finance BSB</td>\n",
       "      <td>Accounting BSB</td>\n",
       "      <td>NaN</td>\n",
       "      <td>False</td>\n",
       "      <td>False</td>\n",
       "    </tr>\n",
       "    <tr>\n",
       "      <th>3</th>\n",
       "      <td>Fall</td>\n",
       "      <td>4068</td>\n",
       "      <td>Fall 2006</td>\n",
       "      <td>F</td>\n",
       "      <td>18</td>\n",
       "      <td>0.000</td>\n",
       "      <td>BUS</td>\n",
       "      <td>BUS</td>\n",
       "      <td>BUS1</td>\n",
       "      <td>MARKBSB</td>\n",
       "      <td>...</td>\n",
       "      <td>1</td>\n",
       "      <td>Finance BSB</td>\n",
       "      <td>NaN</td>\n",
       "      <td>NaN</td>\n",
       "      <td>1.0</td>\n",
       "      <td>Finance BSB</td>\n",
       "      <td>NaN</td>\n",
       "      <td>NaN</td>\n",
       "      <td>False</td>\n",
       "      <td>False</td>\n",
       "    </tr>\n",
       "    <tr>\n",
       "      <th>4</th>\n",
       "      <td>Fall</td>\n",
       "      <td>4068</td>\n",
       "      <td>Fall 2006</td>\n",
       "      <td>F</td>\n",
       "      <td>18</td>\n",
       "      <td>0.000</td>\n",
       "      <td>BUS</td>\n",
       "      <td>BUS</td>\n",
       "      <td>BUS1</td>\n",
       "      <td>BEPPPBSB</td>\n",
       "      <td>...</td>\n",
       "      <td>1</td>\n",
       "      <td>Marketing BSB</td>\n",
       "      <td>Mathematics BA</td>\n",
       "      <td>NaN</td>\n",
       "      <td>1.0</td>\n",
       "      <td>Marketing BSB</td>\n",
       "      <td>Mathematics BA</td>\n",
       "      <td>NaN</td>\n",
       "      <td>True</td>\n",
       "      <td>False</td>\n",
       "    </tr>\n",
       "  </tbody>\n",
       "</table>\n",
       "<p>5 rows × 43 columns</p>\n",
       "</div>"
      ],
      "text/plain": [
       "  COHORT_SP_FA  COHORT_TERM_CD COHORT_TERM_DESC ENTRY_ACADEMIC_LOAD  \\\n",
       "0         Fall            4068        Fall 2006                   F   \n",
       "1         Fall            4068        Fall 2006                   F   \n",
       "2         Fall            4068        Fall 2006                   F   \n",
       "3         Fall            4068        Fall 2006                   F   \n",
       "4         Fall            4068        Fall 2006                   F   \n",
       "\n",
       "   ENTRY_AGE  ENTRY_GPA ENTRY_SCHOOL ENTRY_INTENDED_SCHOOL ENTRY_PROGRAM  \\\n",
       "0         31      3.925          SCS                   SCS          SCS1   \n",
       "1         19      2.700         COLL                  COLL         COLL1   \n",
       "2         18      0.000          BUS                   BUS          BUS1   \n",
       "3         18      0.000          BUS                   BUS          BUS1   \n",
       "4         18      0.000          BUS                   BUS          BUS1   \n",
       "\n",
       "  ENTRY_MAJOR_CODE  ... pell_eligibility_id                 INIT_MAJOR1  \\\n",
       "0         GENSTBGS  ...                   0                  History BA   \n",
       "1           CMCLBA  ...                   1  Communication & Culture BA   \n",
       "2           BUSBSB  ...                   1                 Finance BSB   \n",
       "3          MARKBSB  ...                   1                 Finance BSB   \n",
       "4         BEPPPBSB  ...                   1               Marketing BSB   \n",
       "\n",
       "      INIT_MAJOR2 INIT_MAJOR3 BA_DEGREE_RECEIVED               DEGREE_MAJOR1  \\\n",
       "0             NaN         NaN                1.0                  History BA   \n",
       "1             NaN         NaN                1.0  Communication & Culture BA   \n",
       "2  Accounting BSB         NaN                1.0                 Finance BSB   \n",
       "3             NaN         NaN                1.0                 Finance BSB   \n",
       "4  Mathematics BA         NaN                1.0               Marketing BSB   \n",
       "\n",
       "    DEGREE_MAJOR2 DEGREE_MAJOR3 STEM_end  MAINTAINED_MAJOR  \n",
       "0             NaN           NaN    False             False  \n",
       "1             NaN           NaN    False              True  \n",
       "2  Accounting BSB           NaN    False             False  \n",
       "3             NaN           NaN    False             False  \n",
       "4  Mathematics BA           NaN     True             False  \n",
       "\n",
       "[5 rows x 43 columns]"
      ]
     },
     "execution_count": 7,
     "metadata": {},
     "output_type": "execute_result"
    }
   ],
   "source": [
    "stem_data.stu_attribute_and_retention_df.head()"
   ]
  },
  {
   "cell_type": "code",
   "execution_count": null,
   "metadata": {},
   "outputs": [],
   "source": [
    "# has been moved\n",
    "# def stem_generator_simple(self, dataset):\n",
    "#     if dataset == 'train':\n",
    "#         data = self.crs_df_train\n",
    "#     elif dataset == 'valid':\n",
    "#         data = self.crs_df_valid\n",
    "#     else:\n",
    "#         raise ValueError('Must be from valid or train data.')\n",
    "        \n",
    "#     for (student, term), df in self.crs_df_valid.groupby(['PRSN_UNIV_ID','ACAD_TERM_CD']):\n",
    "#         courses_set = df['embedding_index']\n",
    "#         if len(courses_set) > 1:\n",
    "#             #print(student)\n",
    "#             row = self.stu_attribute_and_retention_df[self.stu_attribute_and_retention_df['PRSN_UNIV_ID']==student]\n",
    "#             student_status = row[['BA_DEGREE_RECEIVED', 'STEM_start', 'STEM_end']].values[0]\n",
    "#             #print(student_status)\n",
    "#             if student_status[1] == 0:\n",
    "#                 continue\n",
    "#             if student_status[0] == 0:\n",
    "#                 y = 0 ## case 0 is dropout\n",
    "#             else:\n",
    "#                 if student_status[2] == 0:\n",
    "#                     y = 1 ## case 1 transitioned out of STEM\n",
    "#                 else:\n",
    "#                     y = 2 ## completed STEM\n",
    "#             x = self.embedding[courses_set].mean(axis=0)\n",
    "#             yield x, y"
   ]
  },
  {
   "cell_type": "code",
   "execution_count": 52,
   "metadata": {},
   "outputs": [
    {
     "data": {
      "text/html": [
       "<div>\n",
       "<style scoped>\n",
       "    .dataframe tbody tr th:only-of-type {\n",
       "        vertical-align: middle;\n",
       "    }\n",
       "\n",
       "    .dataframe tbody tr th {\n",
       "        vertical-align: top;\n",
       "    }\n",
       "\n",
       "    .dataframe thead th {\n",
       "        text-align: right;\n",
       "    }\n",
       "</style>\n",
       "<table border=\"1\" class=\"dataframe\">\n",
       "  <thead>\n",
       "    <tr style=\"text-align: right;\">\n",
       "      <th></th>\n",
       "      <th>STEM MAJORS</th>\n",
       "    </tr>\n",
       "  </thead>\n",
       "  <tbody>\n",
       "    <tr>\n",
       "      <th>0</th>\n",
       "      <td>Biology BS</td>\n",
       "    </tr>\n",
       "    <tr>\n",
       "      <th>1</th>\n",
       "      <td>Biology BA</td>\n",
       "    </tr>\n",
       "    <tr>\n",
       "      <th>2</th>\n",
       "      <td>Human Biology BS</td>\n",
       "    </tr>\n",
       "    <tr>\n",
       "      <th>3</th>\n",
       "      <td>Computer Science BS</td>\n",
       "    </tr>\n",
       "    <tr>\n",
       "      <th>4</th>\n",
       "      <td>Informatics BS</td>\n",
       "    </tr>\n",
       "    <tr>\n",
       "      <th>5</th>\n",
       "      <td>Neuroscience BS</td>\n",
       "    </tr>\n",
       "    <tr>\n",
       "      <th>6</th>\n",
       "      <td>Chemistry BS</td>\n",
       "    </tr>\n",
       "    <tr>\n",
       "      <th>7</th>\n",
       "      <td>Chemistry BA</td>\n",
       "    </tr>\n",
       "    <tr>\n",
       "      <th>8</th>\n",
       "      <td>Biochemistry BA</td>\n",
       "    </tr>\n",
       "    <tr>\n",
       "      <th>9</th>\n",
       "      <td>Environmantal Science BSES</td>\n",
       "    </tr>\n",
       "    <tr>\n",
       "      <th>10</th>\n",
       "      <td>Mathematics BS1</td>\n",
       "    </tr>\n",
       "    <tr>\n",
       "      <th>11</th>\n",
       "      <td>Human Biology BA</td>\n",
       "    </tr>\n",
       "    <tr>\n",
       "      <th>12</th>\n",
       "      <td>Physics BS</td>\n",
       "    </tr>\n",
       "    <tr>\n",
       "      <th>13</th>\n",
       "      <td>Computer Science BA</td>\n",
       "    </tr>\n",
       "    <tr>\n",
       "      <th>14</th>\n",
       "      <td>Biotechnology BS</td>\n",
       "    </tr>\n",
       "    <tr>\n",
       "      <th>15</th>\n",
       "      <td>Microbiology BS</td>\n",
       "    </tr>\n",
       "    <tr>\n",
       "      <th>16</th>\n",
       "      <td>Intelligent Sys Engineering BS</td>\n",
       "    </tr>\n",
       "    <tr>\n",
       "      <th>17</th>\n",
       "      <td>Mathematics BA</td>\n",
       "    </tr>\n",
       "    <tr>\n",
       "      <th>18</th>\n",
       "      <td>Astronomy BS</td>\n",
       "    </tr>\n",
       "    <tr>\n",
       "      <th>19</th>\n",
       "      <td>Astrophysics BS</td>\n",
       "    </tr>\n",
       "    <tr>\n",
       "      <th>20</th>\n",
       "      <td>Animal Behavior BS</td>\n",
       "    </tr>\n",
       "    <tr>\n",
       "      <th>21</th>\n",
       "      <td>Geological Sciences BS</td>\n",
       "    </tr>\n",
       "    <tr>\n",
       "      <th>22</th>\n",
       "      <td>Environ &amp; Sustainability St BA</td>\n",
       "    </tr>\n",
       "    <tr>\n",
       "      <th>23</th>\n",
       "      <td>Statistics BS</td>\n",
       "    </tr>\n",
       "    <tr>\n",
       "      <th>24</th>\n",
       "      <td>Physics BA</td>\n",
       "    </tr>\n",
       "    <tr>\n",
       "      <th>25</th>\n",
       "      <td>Mathematics BS2</td>\n",
       "    </tr>\n",
       "    <tr>\n",
       "      <th>26</th>\n",
       "      <td>Microbiology BA</td>\n",
       "    </tr>\n",
       "    <tr>\n",
       "      <th>27</th>\n",
       "      <td>Epidemiology BSPH</td>\n",
       "    </tr>\n",
       "    <tr>\n",
       "      <th>28</th>\n",
       "      <td>Mathematics BS</td>\n",
       "    </tr>\n",
       "    <tr>\n",
       "      <th>29</th>\n",
       "      <td>Geological Sciences BA</td>\n",
       "    </tr>\n",
       "    <tr>\n",
       "      <th>30</th>\n",
       "      <td>Astronomy/Astrophysics BA</td>\n",
       "    </tr>\n",
       "    <tr>\n",
       "      <th>31</th>\n",
       "      <td>Molecular Life Sciences BS</td>\n",
       "    </tr>\n",
       "    <tr>\n",
       "      <th>32</th>\n",
       "      <td>Biotechnology BA</td>\n",
       "    </tr>\n",
       "    <tr>\n",
       "      <th>33</th>\n",
       "      <td>Earth Science BS</td>\n",
       "    </tr>\n",
       "    <tr>\n",
       "      <th>34</th>\n",
       "      <td>Computational Linguistics BS</td>\n",
       "    </tr>\n",
       "    <tr>\n",
       "      <th>35</th>\n",
       "      <td>Earth &amp; Atmospheric SciencesBA</td>\n",
       "    </tr>\n",
       "    <tr>\n",
       "      <th>36</th>\n",
       "      <td>Environmental Studies BA</td>\n",
       "    </tr>\n",
       "    <tr>\n",
       "      <th>37</th>\n",
       "      <td>Mathematics BA</td>\n",
       "    </tr>\n",
       "    <tr>\n",
       "      <th>38</th>\n",
       "      <td>Economics BA</td>\n",
       "    </tr>\n",
       "    <tr>\n",
       "      <th>39</th>\n",
       "      <td>Env Sci: Atmospheric Sci BSES</td>\n",
       "    </tr>\n",
       "    <tr>\n",
       "      <th>40</th>\n",
       "      <td>Gnrl Environmental Sci BSES</td>\n",
       "    </tr>\n",
       "  </tbody>\n",
       "</table>\n",
       "</div>"
      ],
      "text/plain": [
       "                       STEM MAJORS\n",
       "0                       Biology BS\n",
       "1                       Biology BA\n",
       "2                 Human Biology BS\n",
       "3              Computer Science BS\n",
       "4                   Informatics BS\n",
       "5                  Neuroscience BS\n",
       "6                     Chemistry BS\n",
       "7                     Chemistry BA\n",
       "8                  Biochemistry BA\n",
       "9       Environmantal Science BSES\n",
       "10                 Mathematics BS1\n",
       "11                Human Biology BA\n",
       "12                      Physics BS\n",
       "13             Computer Science BA\n",
       "14                Biotechnology BS\n",
       "15                 Microbiology BS\n",
       "16  Intelligent Sys Engineering BS\n",
       "17                  Mathematics BA\n",
       "18                    Astronomy BS\n",
       "19                 Astrophysics BS\n",
       "20              Animal Behavior BS\n",
       "21          Geological Sciences BS\n",
       "22  Environ & Sustainability St BA\n",
       "23                   Statistics BS\n",
       "24                      Physics BA\n",
       "25                 Mathematics BS2\n",
       "26                 Microbiology BA\n",
       "27               Epidemiology BSPH\n",
       "28                  Mathematics BS\n",
       "29          Geological Sciences BA\n",
       "30       Astronomy/Astrophysics BA\n",
       "31      Molecular Life Sciences BS\n",
       "32                Biotechnology BA\n",
       "33                Earth Science BS\n",
       "34    Computational Linguistics BS\n",
       "35  Earth & Atmospheric SciencesBA\n",
       "36        Environmental Studies BA\n",
       "37                  Mathematics BA\n",
       "38                    Economics BA\n",
       "39   Env Sci: Atmospheric Sci BSES\n",
       "40     Gnrl Environmental Sci BSES"
      ]
     },
     "execution_count": 52,
     "metadata": {},
     "output_type": "execute_result"
    }
   ],
   "source": [
    "stem_data.stem_major_df"
   ]
  },
  {
   "cell_type": "code",
   "execution_count": null,
   "metadata": {},
   "outputs": [],
   "source": [
    "# print(stem_data.stu_attribute_and_retention_df['STEM_start'].sum())\n",
    "# # stem_data.student_attr_df['ENTRY_MAJOR_DESC'].isin(stem_data.stem_major_df['STEM MAJORS']).sum()\n",
    "# stem_data.student_attr_df['STEM_start'] = stem_data.student_attr_df['ENTRY_MAJOR_DESC'].isin(stem_data.stem_major_df['STEM MAJORS'])\n"
   ]
  },
  {
   "cell_type": "code",
   "execution_count": null,
   "metadata": {},
   "outputs": [],
   "source": [
    "#stem_data._create_attribute_retention_table()"
   ]
  },
  {
   "cell_type": "markdown",
   "metadata": {},
   "source": [
    "## stem simple RF"
   ]
  },
  {
   "cell_type": "code",
   "execution_count": 8,
   "metadata": {},
   "outputs": [],
   "source": [
    "# for x,y in stem_generator_simple(stem_data):\n",
    "#     print(x)\n",
    "\n",
    "x_train_simp = []\n",
    "y_train_simp = []\n",
    "for x,y in stem_data.stem_generator_simple('train'):\n",
    "    x_train_simp.append(x)\n",
    "    y_train_simp.append(y)"
   ]
  },
  {
   "cell_type": "code",
   "execution_count": 9,
   "metadata": {},
   "outputs": [],
   "source": [
    "#print(y_train)"
   ]
  },
  {
   "cell_type": "code",
   "execution_count": 10,
   "metadata": {},
   "outputs": [
    {
     "name": "stdout",
     "output_type": "stream",
     "text": [
      "(12476, 78)\n",
      "(12476,)\n"
     ]
    },
    {
     "data": {
      "text/plain": [
       "RandomForestClassifier(bootstrap=True, ccp_alpha=0.0, class_weight=None,\n",
       "                       criterion='gini', max_depth=None, max_features='auto',\n",
       "                       max_leaf_nodes=None, max_samples=None,\n",
       "                       min_impurity_decrease=0.0, min_impurity_split=None,\n",
       "                       min_samples_leaf=1, min_samples_split=2,\n",
       "                       min_weight_fraction_leaf=0.0, n_estimators=100,\n",
       "                       n_jobs=None, oob_score=False, random_state=None,\n",
       "                       verbose=0, warm_start=False)"
      ]
     },
     "execution_count": 10,
     "metadata": {},
     "output_type": "execute_result"
    }
   ],
   "source": [
    "x_train_simp = np.array(x_train_simp)\n",
    "y_train_simp = np.array(y_train_simp)\n",
    "print(x_train_simp.shape)\n",
    "print(y_train_simp.shape)\n",
    "\n",
    "clf = RandomForestClassifier()\n",
    "clf.fit(x_train_simp, y_train_simp)"
   ]
  },
  {
   "cell_type": "code",
   "execution_count": 11,
   "metadata": {},
   "outputs": [
    {
     "name": "stdout",
     "output_type": "stream",
     "text": [
      "[2 2 2 ... 0 0 0]\n"
     ]
    },
    {
     "data": {
      "text/plain": [
       "array([0.01537892, 0.01255356, 0.01122481, 0.01145042, 0.01128165,\n",
       "       0.01188681, 0.01123348, 0.01150673, 0.01451663, 0.01551337,\n",
       "       0.0156104 , 0.01167439, 0.01752281, 0.01453899, 0.01326366,\n",
       "       0.01503575, 0.01084946, 0.01188622, 0.01114437, 0.01189565,\n",
       "       0.01249756, 0.01170491, 0.01118347, 0.01411914, 0.01219421,\n",
       "       0.01374615, 0.01414745, 0.01252448, 0.01183544, 0.01219513,\n",
       "       0.01099836, 0.01262547, 0.01138632, 0.0140481 , 0.01434252,\n",
       "       0.01230517, 0.01038116, 0.02206495, 0.01128735, 0.01296411,\n",
       "       0.01145871, 0.01332157, 0.01061378, 0.01411649, 0.01194147,\n",
       "       0.0132215 , 0.01185361, 0.01267209, 0.01485921, 0.01212138,\n",
       "       0.01082741, 0.01407528, 0.00965438, 0.01204101, 0.01076677,\n",
       "       0.01196328, 0.01555786, 0.01671075, 0.01469429, 0.01114764,\n",
       "       0.01197071, 0.01164291, 0.01142667, 0.01526375, 0.01740823,\n",
       "       0.01479521, 0.01286503, 0.01037272, 0.01147486, 0.01100491,\n",
       "       0.01244025, 0.01327265, 0.01066109, 0.01136367, 0.01342665,\n",
       "       0.01165993, 0.01481436, 0.01199839])"
      ]
     },
     "execution_count": 11,
     "metadata": {},
     "output_type": "execute_result"
    }
   ],
   "source": [
    "y_pred_simp = clf.predict(x_train_simp)\n",
    "print(y_pred_simp)\n",
    "#confusion_matrix(y_train, y_pred)\n",
    "clf.feature_importances_"
   ]
  },
  {
   "cell_type": "code",
   "execution_count": 12,
   "metadata": {},
   "outputs": [
    {
     "data": {
      "text/plain": [
       "array([[4368,    5,   17],\n",
       "       [  11, 2849,   25],\n",
       "       [  18,    7, 5176]])"
      ]
     },
     "execution_count": 12,
     "metadata": {},
     "output_type": "execute_result"
    }
   ],
   "source": [
    "confusion_matrix(y_train_simp, y_pred_simp)"
   ]
  },
  {
   "cell_type": "code",
   "execution_count": 13,
   "metadata": {},
   "outputs": [
    {
     "data": {
      "text/plain": [
       "0.9933472266752165"
      ]
     },
     "execution_count": 13,
     "metadata": {},
     "output_type": "execute_result"
    }
   ],
   "source": [
    "clf.score(x_train_simp, y_train_simp)"
   ]
  },
  {
   "cell_type": "code",
   "execution_count": 14,
   "metadata": {},
   "outputs": [],
   "source": [
    "# for x,y in stem_generator_simple(stem_data):\n",
    "#     print(x)\n",
    "\n",
    "x_valid_simp = []\n",
    "y_valid_simp = []\n",
    "for x,y in stem_data.stem_generator_simple('valid'):\n",
    "    x_valid_simp.append(x)\n",
    "    y_valid_simp.append(y)"
   ]
  },
  {
   "cell_type": "code",
   "execution_count": 15,
   "metadata": {},
   "outputs": [
    {
     "name": "stdout",
     "output_type": "stream",
     "text": [
      "[[465  79 358]\n",
      " [235 173 211]\n",
      " [257  49 659]]\n",
      "[0.01537892 0.01255356 0.01122481 0.01145042 0.01128165 0.01188681\n",
      " 0.01123348 0.01150673 0.01451663 0.01551337 0.0156104  0.01167439\n",
      " 0.01752281 0.01453899 0.01326366 0.01503575 0.01084946 0.01188622\n",
      " 0.01114437 0.01189565 0.01249756 0.01170491 0.01118347 0.01411914\n",
      " 0.01219421 0.01374615 0.01414745 0.01252448 0.01183544 0.01219513\n",
      " 0.01099836 0.01262547 0.01138632 0.0140481  0.01434252 0.01230517\n",
      " 0.01038116 0.02206495 0.01128735 0.01296411 0.01145871 0.01332157\n",
      " 0.01061378 0.01411649 0.01194147 0.0132215  0.01185361 0.01267209\n",
      " 0.01485921 0.01212138 0.01082741 0.01407528 0.00965438 0.01204101\n",
      " 0.01076677 0.01196328 0.01555786 0.01671075 0.01469429 0.01114764\n",
      " 0.01197071 0.01164291 0.01142667 0.01526375 0.01740823 0.01479521\n",
      " 0.01286503 0.01037272 0.01147486 0.01100491 0.01244025 0.01327265\n",
      " 0.01066109 0.01136367 0.01342665 0.01165993 0.01481436 0.01199839]\n"
     ]
    },
    {
     "data": {
      "text/plain": [
       "0.5217216411906678"
      ]
     },
     "execution_count": 15,
     "metadata": {},
     "output_type": "execute_result"
    }
   ],
   "source": [
    "y_pred_simp = clf.predict(x_valid_simp)\n",
    "print(confusion_matrix(y_valid_simp, y_pred_simp))\n",
    "print(clf.feature_importances_)\n",
    "clf.score(x_valid_simp, y_valid_simp)"
   ]
  },
  {
   "cell_type": "code",
   "execution_count": 88,
   "metadata": {},
   "outputs": [
    {
     "data": {
      "text/html": [
       "<div>\n",
       "<style scoped>\n",
       "    .dataframe tbody tr th:only-of-type {\n",
       "        vertical-align: middle;\n",
       "    }\n",
       "\n",
       "    .dataframe tbody tr th {\n",
       "        vertical-align: top;\n",
       "    }\n",
       "\n",
       "    .dataframe thead th {\n",
       "        text-align: right;\n",
       "    }\n",
       "</style>\n",
       "<table border=\"1\" class=\"dataframe\">\n",
       "  <thead>\n",
       "    <tr style=\"text-align: right;\">\n",
       "      <th></th>\n",
       "      <th>INIT_MAJOR1</th>\n",
       "      <th>INIT_MAJOR2</th>\n",
       "      <th>INIT_MAJOR3</th>\n",
       "      <th>BA_DEGREE_RECEIVED</th>\n",
       "      <th>DEGREE_MAJOR1</th>\n",
       "      <th>DEGREE_MAJOR2</th>\n",
       "      <th>DEGREE_MAJOR3</th>\n",
       "      <th>STEM_end</th>\n",
       "    </tr>\n",
       "    <tr>\n",
       "      <th>PRSN_UNIV_ID</th>\n",
       "      <th></th>\n",
       "      <th></th>\n",
       "      <th></th>\n",
       "      <th></th>\n",
       "      <th></th>\n",
       "      <th></th>\n",
       "      <th></th>\n",
       "      <th></th>\n",
       "    </tr>\n",
       "  </thead>\n",
       "  <tbody>\n",
       "    <tr>\n",
       "      <th>80319</th>\n",
       "      <td>NaN</td>\n",
       "      <td>NaN</td>\n",
       "      <td>NaN</td>\n",
       "      <td>0.0</td>\n",
       "      <td>NaN</td>\n",
       "      <td>NaN</td>\n",
       "      <td>NaN</td>\n",
       "      <td>False</td>\n",
       "    </tr>\n",
       "    <tr>\n",
       "      <th>101701</th>\n",
       "      <td>NaN</td>\n",
       "      <td>NaN</td>\n",
       "      <td>NaN</td>\n",
       "      <td>0.0</td>\n",
       "      <td>NaN</td>\n",
       "      <td>NaN</td>\n",
       "      <td>NaN</td>\n",
       "      <td>False</td>\n",
       "    </tr>\n",
       "    <tr>\n",
       "      <th>119007</th>\n",
       "      <td>NaN</td>\n",
       "      <td>NaN</td>\n",
       "      <td>NaN</td>\n",
       "      <td>0.0</td>\n",
       "      <td>NaN</td>\n",
       "      <td>NaN</td>\n",
       "      <td>NaN</td>\n",
       "      <td>False</td>\n",
       "    </tr>\n",
       "    <tr>\n",
       "      <th>152200</th>\n",
       "      <td>NaN</td>\n",
       "      <td>NaN</td>\n",
       "      <td>NaN</td>\n",
       "      <td>0.0</td>\n",
       "      <td>NaN</td>\n",
       "      <td>NaN</td>\n",
       "      <td>NaN</td>\n",
       "      <td>False</td>\n",
       "    </tr>\n",
       "    <tr>\n",
       "      <th>161801</th>\n",
       "      <td>NaN</td>\n",
       "      <td>NaN</td>\n",
       "      <td>NaN</td>\n",
       "      <td>0.0</td>\n",
       "      <td>NaN</td>\n",
       "      <td>NaN</td>\n",
       "      <td>NaN</td>\n",
       "      <td>False</td>\n",
       "    </tr>\n",
       "    <tr>\n",
       "      <th>...</th>\n",
       "      <td>...</td>\n",
       "      <td>...</td>\n",
       "      <td>...</td>\n",
       "      <td>...</td>\n",
       "      <td>...</td>\n",
       "      <td>...</td>\n",
       "      <td>...</td>\n",
       "      <td>...</td>\n",
       "    </tr>\n",
       "    <tr>\n",
       "      <th>2000758069</th>\n",
       "      <td>NaN</td>\n",
       "      <td>NaN</td>\n",
       "      <td>NaN</td>\n",
       "      <td>0.0</td>\n",
       "      <td>NaN</td>\n",
       "      <td>NaN</td>\n",
       "      <td>NaN</td>\n",
       "      <td>False</td>\n",
       "    </tr>\n",
       "    <tr>\n",
       "      <th>2000758315</th>\n",
       "      <td>NaN</td>\n",
       "      <td>NaN</td>\n",
       "      <td>NaN</td>\n",
       "      <td>0.0</td>\n",
       "      <td>NaN</td>\n",
       "      <td>NaN</td>\n",
       "      <td>NaN</td>\n",
       "      <td>False</td>\n",
       "    </tr>\n",
       "    <tr>\n",
       "      <th>2000758317</th>\n",
       "      <td>NaN</td>\n",
       "      <td>NaN</td>\n",
       "      <td>NaN</td>\n",
       "      <td>0.0</td>\n",
       "      <td>NaN</td>\n",
       "      <td>NaN</td>\n",
       "      <td>NaN</td>\n",
       "      <td>False</td>\n",
       "    </tr>\n",
       "    <tr>\n",
       "      <th>2000758785</th>\n",
       "      <td>NaN</td>\n",
       "      <td>NaN</td>\n",
       "      <td>NaN</td>\n",
       "      <td>0.0</td>\n",
       "      <td>NaN</td>\n",
       "      <td>NaN</td>\n",
       "      <td>NaN</td>\n",
       "      <td>False</td>\n",
       "    </tr>\n",
       "    <tr>\n",
       "      <th>2000766563</th>\n",
       "      <td>NaN</td>\n",
       "      <td>NaN</td>\n",
       "      <td>NaN</td>\n",
       "      <td>0.0</td>\n",
       "      <td>NaN</td>\n",
       "      <td>NaN</td>\n",
       "      <td>NaN</td>\n",
       "      <td>False</td>\n",
       "    </tr>\n",
       "  </tbody>\n",
       "</table>\n",
       "<p>56890 rows × 8 columns</p>\n",
       "</div>"
      ],
      "text/plain": [
       "             INIT_MAJOR1 INIT_MAJOR2 INIT_MAJOR3  BA_DEGREE_RECEIVED  \\\n",
       "PRSN_UNIV_ID                                                           \n",
       "80319                NaN         NaN         NaN                 0.0   \n",
       "101701               NaN         NaN         NaN                 0.0   \n",
       "119007               NaN         NaN         NaN                 0.0   \n",
       "152200               NaN         NaN         NaN                 0.0   \n",
       "161801               NaN         NaN         NaN                 0.0   \n",
       "...                  ...         ...         ...                 ...   \n",
       "2000758069           NaN         NaN         NaN                 0.0   \n",
       "2000758315           NaN         NaN         NaN                 0.0   \n",
       "2000758317           NaN         NaN         NaN                 0.0   \n",
       "2000758785           NaN         NaN         NaN                 0.0   \n",
       "2000766563           NaN         NaN         NaN                 0.0   \n",
       "\n",
       "             DEGREE_MAJOR1 DEGREE_MAJOR2 DEGREE_MAJOR3  STEM_end  \n",
       "PRSN_UNIV_ID                                                      \n",
       "80319                  NaN           NaN           NaN     False  \n",
       "101701                 NaN           NaN           NaN     False  \n",
       "119007                 NaN           NaN           NaN     False  \n",
       "152200                 NaN           NaN           NaN     False  \n",
       "161801                 NaN           NaN           NaN     False  \n",
       "...                    ...           ...           ...       ...  \n",
       "2000758069             NaN           NaN           NaN     False  \n",
       "2000758315             NaN           NaN           NaN     False  \n",
       "2000758317             NaN           NaN           NaN     False  \n",
       "2000758785             NaN           NaN           NaN     False  \n",
       "2000766563             NaN           NaN           NaN     False  \n",
       "\n",
       "[56890 rows x 8 columns]"
      ]
     },
     "execution_count": 88,
     "metadata": {},
     "output_type": "execute_result"
    }
   ],
   "source": [
    "stem_data.stu_retention_df[stem_data.stu_retention_df['BA_DEGREE_RECEIVED']==0]"
   ]
  },
  {
   "cell_type": "code",
   "execution_count": 89,
   "metadata": {},
   "outputs": [],
   "source": [
    "stu_retention_raw = pd.read_csv('/Users/rsciagli/iCloud Drive (Archive)/Documents/Documents - Rebecca’s MacBook Air/fall2020/bar/STUDENT_RETENTION_TABLE_full.csv')"
   ]
  },
  {
   "cell_type": "code",
   "execution_count": 90,
   "metadata": {},
   "outputs": [],
   "source": [
    "stu_retention_raw_df = pd.DataFrame(stu_retention_raw)"
   ]
  },
  {
   "cell_type": "code",
   "execution_count": 148,
   "metadata": {},
   "outputs": [],
   "source": [
    "temp = stu_retention_raw_df[['BA_DEGREE_RECEIVED','DEGREE_MAJOR1']]\n",
    "temp = pd.DataFrame(temp)"
   ]
  },
  {
   "cell_type": "code",
   "execution_count": 150,
   "metadata": {},
   "outputs": [
    {
     "data": {
      "text/html": [
       "<div>\n",
       "<style scoped>\n",
       "    .dataframe tbody tr th:only-of-type {\n",
       "        vertical-align: middle;\n",
       "    }\n",
       "\n",
       "    .dataframe tbody tr th {\n",
       "        vertical-align: top;\n",
       "    }\n",
       "\n",
       "    .dataframe thead th {\n",
       "        text-align: right;\n",
       "    }\n",
       "</style>\n",
       "<table border=\"1\" class=\"dataframe\">\n",
       "  <thead>\n",
       "    <tr style=\"text-align: right;\">\n",
       "      <th></th>\n",
       "      <th>BA_DEGREE_RECEIVED</th>\n",
       "      <th>DEGREE_MAJOR1</th>\n",
       "    </tr>\n",
       "  </thead>\n",
       "  <tbody>\n",
       "    <tr>\n",
       "      <th>1063</th>\n",
       "      <td>1</td>\n",
       "      <td>Biology BS</td>\n",
       "    </tr>\n",
       "    <tr>\n",
       "      <th>1064</th>\n",
       "      <td>1</td>\n",
       "      <td>Biology BS</td>\n",
       "    </tr>\n",
       "    <tr>\n",
       "      <th>1065</th>\n",
       "      <td>1</td>\n",
       "      <td>Biology BS</td>\n",
       "    </tr>\n",
       "    <tr>\n",
       "      <th>1066</th>\n",
       "      <td>1</td>\n",
       "      <td>Biology BS</td>\n",
       "    </tr>\n",
       "    <tr>\n",
       "      <th>1067</th>\n",
       "      <td>1</td>\n",
       "      <td>Biology BS</td>\n",
       "    </tr>\n",
       "    <tr>\n",
       "      <th>...</th>\n",
       "      <td>...</td>\n",
       "      <td>...</td>\n",
       "    </tr>\n",
       "    <tr>\n",
       "      <th>1620364</th>\n",
       "      <td>1</td>\n",
       "      <td>Biology BS</td>\n",
       "    </tr>\n",
       "    <tr>\n",
       "      <th>1660499</th>\n",
       "      <td>1</td>\n",
       "      <td>Biology BS</td>\n",
       "    </tr>\n",
       "    <tr>\n",
       "      <th>1660500</th>\n",
       "      <td>1</td>\n",
       "      <td>Biology BS</td>\n",
       "    </tr>\n",
       "    <tr>\n",
       "      <th>1660501</th>\n",
       "      <td>1</td>\n",
       "      <td>Biology BS</td>\n",
       "    </tr>\n",
       "    <tr>\n",
       "      <th>1660502</th>\n",
       "      <td>1</td>\n",
       "      <td>Biology BS</td>\n",
       "    </tr>\n",
       "  </tbody>\n",
       "</table>\n",
       "<p>16287 rows × 2 columns</p>\n",
       "</div>"
      ],
      "text/plain": [
       "         BA_DEGREE_RECEIVED DEGREE_MAJOR1\n",
       "1063                      1    Biology BS\n",
       "1064                      1    Biology BS\n",
       "1065                      1    Biology BS\n",
       "1066                      1    Biology BS\n",
       "1067                      1    Biology BS\n",
       "...                     ...           ...\n",
       "1620364                   1    Biology BS\n",
       "1660499                   1    Biology BS\n",
       "1660500                   1    Biology BS\n",
       "1660501                   1    Biology BS\n",
       "1660502                   1    Biology BS\n",
       "\n",
       "[16287 rows x 2 columns]"
      ]
     },
     "execution_count": 150,
     "metadata": {},
     "output_type": "execute_result"
    }
   ],
   "source": [
    "temp[temp['DEGREE_MAJOR1']=='Biology BS'].where()\n",
    "x = temp['DEGREE_MAJOR1']=='Biology BS'\n",
    "find = np.where(temp[temp['DEGREE_MAJOR1']=='Biology BS'])"
   ]
  },
  {
   "cell_type": "code",
   "execution_count": 145,
   "metadata": {},
   "outputs": [
    {
     "ename": "ValueError",
     "evalue": "The truth value of a Series is ambiguous. Use a.empty, a.bool(), a.item(), a.any() or a.all().",
     "output_type": "error",
     "traceback": [
      "\u001b[0;31m---------------------------------------------------------------------------\u001b[0m",
      "\u001b[0;31mValueError\u001b[0m                                Traceback (most recent call last)",
      "\u001b[0;32m<ipython-input-145-190c20f3c9e4>\u001b[0m in \u001b[0;36m<module>\u001b[0;34m\u001b[0m\n\u001b[1;32m      1\u001b[0m \u001b[0;32mfor\u001b[0m \u001b[0mi\u001b[0m \u001b[0;32min\u001b[0m \u001b[0mstu_retention_raw_df\u001b[0m\u001b[0;34m:\u001b[0m\u001b[0;34m\u001b[0m\u001b[0;34m\u001b[0m\u001b[0m\n\u001b[0;32m----> 2\u001b[0;31m     \u001b[0;32mif\u001b[0m \u001b[0mtemp\u001b[0m\u001b[0;34m[\u001b[0m\u001b[0;34m'BA_DEGREE_RECEIVED'\u001b[0m\u001b[0;34m]\u001b[0m \u001b[0;34m==\u001b[0m \u001b[0;36m0\u001b[0m\u001b[0;34m:\u001b[0m\u001b[0;34m\u001b[0m\u001b[0;34m\u001b[0m\u001b[0m\n\u001b[0m\u001b[1;32m      3\u001b[0m         \u001b[0mprint\u001b[0m\u001b[0;34m(\u001b[0m\u001b[0mi\u001b[0m\u001b[0;34m)\u001b[0m\u001b[0;34m\u001b[0m\u001b[0;34m\u001b[0m\u001b[0m\n",
      "\u001b[0;32m~/opt/anaconda3/envs/dataweekends/lib/python3.7/site-packages/pandas/core/generic.py\u001b[0m in \u001b[0;36m__nonzero__\u001b[0;34m(self)\u001b[0m\n\u001b[1;32m   1553\u001b[0m             \u001b[0;34m\"The truth value of a {0} is ambiguous. \"\u001b[0m\u001b[0;34m\u001b[0m\u001b[0;34m\u001b[0m\u001b[0m\n\u001b[1;32m   1554\u001b[0m             \"Use a.empty, a.bool(), a.item(), a.any() or a.all().\".format(\n\u001b[0;32m-> 1555\u001b[0;31m                 \u001b[0mself\u001b[0m\u001b[0;34m.\u001b[0m\u001b[0m__class__\u001b[0m\u001b[0;34m.\u001b[0m\u001b[0m__name__\u001b[0m\u001b[0;34m\u001b[0m\u001b[0;34m\u001b[0m\u001b[0m\n\u001b[0m\u001b[1;32m   1556\u001b[0m             )\n\u001b[1;32m   1557\u001b[0m         )\n",
      "\u001b[0;31mValueError\u001b[0m: The truth value of a Series is ambiguous. Use a.empty, a.bool(), a.item(), a.any() or a.all()."
     ]
    }
   ],
   "source": [
    "for i in stu_retention_raw_df:\n",
    "    if temp['BA_DEGREE_RECEIVED'] == 0:\n",
    "        print(i)"
   ]
  },
  {
   "cell_type": "code",
   "execution_count": 115,
   "metadata": {},
   "outputs": [],
   "source": []
  },
  {
   "cell_type": "code",
   "execution_count": null,
   "metadata": {},
   "outputs": [],
   "source": [
    "for student stu_retention_raw_df:\n",
    "    #row = stu_retention_raw_df[stu_retention_raw_df['PRSN_UNIV_ID']==student]\n",
    "    temp = stu_retention_raw_df[stu_retention_raw_df['DEGREE_MAJOR1']=='Biology BS']\n",
    "    print(temp)\n",
    "        "
   ]
  },
  {
   "cell_type": "code",
   "execution_count": null,
   "metadata": {},
   "outputs": [],
   "source": [
    "#stem_data.stu_retention_df[stem_data.stu_retention_df['INIT_MAJOR1'] == 'Computer Science BS']"
   ]
  },
  {
   "cell_type": "code",
   "execution_count": 42,
   "metadata": {},
   "outputs": [],
   "source": [
    "def stem_generator_complex(self, dataset, major_filter=None):\n",
    "    if dataset == 'train':\n",
    "        data = self.crs_df_train\n",
    "    elif dataset == 'valid':\n",
    "        data = self.crs_df_valid\n",
    "    else:\n",
    "        raise ValueError('Must be from valid or train data.')\n",
    "        \n",
    "    for (student, term), df in data.groupby(['PRSN_UNIV_ID','ACAD_TERM_CD']):\n",
    "        df = df[~df['CRS_OFCL_GRD_NBR'].isna()]\n",
    "        df = df[df['ACAD_UNT_TKN_NBR'] > 0]\n",
    "        courses_set = df['embedding_index']\n",
    "        #print(df)\n",
    "        if len(courses_set) > 1:\n",
    "            row = self.stu_attribute_and_retention_df[self.stu_attribute_and_retention_df['PRSN_UNIV_ID']==student] \n",
    "            major = row['INIT_MAJOR1'].values[0]\n",
    "            if  major_filter is not None and major_filter != major:\n",
    "                continue\n",
    "            #x = self.embedding[courses_set].mean(axis=0)\n",
    "            df['grade_points'] = df['CRS_OFCL_GRD_NBR']*df['ACAD_UNT_TKN_NBR']\n",
    "            #print(df['grade_points'])\n",
    "            ave_grade = df['grade_points'].sum()/df['ACAD_UNT_TKN_NBR'].sum()\n",
    "            var_grade = ((df['ACAD_UNT_TKN_NBR']/df['ACAD_UNT_TKN_NBR'].sum()) * \n",
    "                         np.square(df['CRS_OFCL_GRD_NBR']-ave_grade)).sum()\n",
    "            credit_hrs = df['ACAD_UNT_TKN_NBR'].sum()\n",
    "            #print(credit_hrs)\n",
    "            grade_scalars = np.array([ave_grade, var_grade, credit_hrs]).astype(float)\n",
    "            #print(grade_scalars)\n",
    "            \n",
    "            df_low = df[df['CRS_OFCL_GRD_NBR'] <= ave_grade + 0.001]\n",
    "            #print(df_low.shape)\n",
    "            df_high = df[df['CRS_OFCL_GRD_NBR'] >= ave_grade - 0.001]\n",
    "            if len(df_high) == 0:\n",
    "                display(df)\n",
    "                print(df['CRS_OFCL_GRD_NBR'])\n",
    "                print(grade_scalars)\n",
    "            assert len(df_high) > 0\n",
    "            assert len(df_low) > 0\n",
    "            x_low = self.embedding[df_low['embedding_index']].mean(axis=0)\n",
    "            x_high = self.embedding[df_high['embedding_index']].mean(axis=0)\n",
    "                   \n",
    "            #ethnicity_onehot = np.eye(len(self.ethnicity_id))[row['ethnicity_id']][0]\n",
    "            urm_onehot = np.eye(len(self.urm_flag_id))[row['urm_flag_id']][0]\n",
    "            gender_onehot = np.eye(len(self.gender_id))[row['gender_id']][0]\n",
    "            pell_eligibility = row['pell_eligibility_id']\n",
    "\n",
    "            x = np.concatenate([x_low, x_high, grade_scalars, urm_onehot, gender_onehot, pell_eligibility])\n",
    "            #x = np.concatenate([x, ethnicity_onehot, urm_onehot, gender_onehot, pell_eligibility])\n",
    "            student_status = row[['BA_DEGREE_RECEIVED', 'STEM_start', 'STEM_end']].values[0]\n",
    "            if student_status[1] == 0:\n",
    "                continue\n",
    "            if student_status[0] == 0:\n",
    "                y = 0 ## case 0 is degree non-completer\n",
    "            else:\n",
    "                if student_status[2] == 0:\n",
    "                    y = 1 ## case 1 STEM non-completer\n",
    "                else:\n",
    "                    y = 2 ## case 2 STEM completer\n",
    "                \n",
    "            yield x, y\n",
    "            \n",
    "            if urm_onehot[0] == 0 and dataset == 'train': ## oversampling non-whites\n",
    "                yield x, y"
   ]
  },
  {
   "cell_type": "code",
   "execution_count": 43,
   "metadata": {},
   "outputs": [],
   "source": [
    "#stem_data.stem_major_df"
   ]
  },
  {
   "cell_type": "markdown",
   "metadata": {},
   "source": [
    "## stem complex RF"
   ]
  },
  {
   "cell_type": "code",
   "execution_count": 60,
   "metadata": {},
   "outputs": [],
   "source": [
    "# x_train_complex = []\n",
    "# y_train_complex = []\n",
    "# for x,y in stem_generator_complex(stem_data, 'train'):\n",
    "#     x_train_complex.append(x)\n",
    "#     y_train_complex.append(y)"
   ]
  },
  {
   "cell_type": "code",
   "execution_count": 67,
   "metadata": {},
   "outputs": [],
   "source": [
    "#np.save('x_train_complex.npy', x_train_complex)"
   ]
  },
  {
   "cell_type": "code",
   "execution_count": null,
   "metadata": {},
   "outputs": [],
   "source": [
    "np.save('x_train_complex.npy', x_train_complex)"
   ]
  },
  {
   "cell_type": "code",
   "execution_count": 68,
   "metadata": {},
   "outputs": [],
   "source": [
    "#np.save('y_train_complex.npy', y_train_complex)"
   ]
  },
  {
   "cell_type": "code",
   "execution_count": null,
   "metadata": {},
   "outputs": [],
   "source": [
    "np.save('y_train_complex.npy', y_train_complex)"
   ]
  },
  {
   "cell_type": "code",
   "execution_count": 81,
   "metadata": {},
   "outputs": [
    {
     "name": "stdout",
     "output_type": "stream",
     "text": [
      "(12314, 166)\n",
      "float64\n",
      "(12314,)\n"
     ]
    },
    {
     "data": {
      "text/plain": [
       "RandomForestClassifier(bootstrap=True, ccp_alpha=0.0, class_weight=None,\n",
       "                       criterion='gini', max_depth=7, max_features='auto',\n",
       "                       max_leaf_nodes=None, max_samples=None,\n",
       "                       min_impurity_decrease=0.0, min_impurity_split=None,\n",
       "                       min_samples_leaf=1, min_samples_split=2,\n",
       "                       min_weight_fraction_leaf=0.0, n_estimators=100,\n",
       "                       n_jobs=None, oob_score=False, random_state=None,\n",
       "                       verbose=0, warm_start=False)"
      ]
     },
     "execution_count": 81,
     "metadata": {},
     "output_type": "execute_result"
    }
   ],
   "source": [
    "x_train_complex = np.array(x_train_complex)\n",
    "y_train_complex = np.array(y_train_complex)\n",
    "print(x_train_complex.shape)\n",
    "print(x_train_complex.dtype)\n",
    "print(y_train_complex.shape)\n",
    "\n",
    "clf = RandomForestClassifier(max_depth=7)\n",
    "clf.fit(x_train_complex, y_train_complex)"
   ]
  },
  {
   "cell_type": "code",
   "execution_count": 82,
   "metadata": {},
   "outputs": [
    {
     "name": "stdout",
     "output_type": "stream",
     "text": [
      "[[2642   39 1609]\n",
      " [1066  558 1234]\n",
      " [1254   21 3891]]\n",
      "[0.00563679 0.0021437  0.00332128 0.00243337 0.0054473  0.00840963\n",
      " 0.00267011 0.0041245  0.01108343 0.01820466 0.0078198  0.00493733\n",
      " 0.01390902 0.00516285 0.00735419 0.00762272 0.00274522 0.00179628\n",
      " 0.00553247 0.00374264 0.00415008 0.00387098 0.00187145 0.01486469\n",
      " 0.00665081 0.01268141 0.00525934 0.00318908 0.00663197 0.00612564\n",
      " 0.00393631 0.00574721 0.00411352 0.01690424 0.00628965 0.00473104\n",
      " 0.00356575 0.02606471 0.00418638 0.00502797 0.00300811 0.00237915\n",
      " 0.00410312 0.00859576 0.00724153 0.00541538 0.00780872 0.00881269\n",
      " 0.00756517 0.00230449 0.00197465 0.00943779 0.00226519 0.00248119\n",
      " 0.00216655 0.00219015 0.01083631 0.00907668 0.00484006 0.00269004\n",
      " 0.00243875 0.00257848 0.00259849 0.02159921 0.02175842 0.02204182\n",
      " 0.01430605 0.00246815 0.00306563 0.00258195 0.00220262 0.00769968\n",
      " 0.00156202 0.00309451 0.0106996  0.00306624 0.00736164 0.00890806\n",
      " 0.00720572 0.00284459 0.00279637 0.00247245 0.00271232 0.00296284\n",
      " 0.00189605 0.00231713 0.00642894 0.010198   0.00798307 0.00236098\n",
      " 0.01588638 0.00545584 0.00374045 0.00425529 0.00239882 0.00248319\n",
      " 0.001749   0.00260219 0.00254126 0.00405052 0.00220047 0.00825339\n",
      " 0.00512495 0.00655845 0.00554861 0.0030266  0.00418526 0.00371202\n",
      " 0.00256361 0.00760148 0.00288933 0.00653647 0.00762979 0.00749938\n",
      " 0.00294601 0.01406663 0.00353    0.00242019 0.00221871 0.00264754\n",
      " 0.00242821 0.00706661 0.00576543 0.00219128 0.00234285 0.0059054\n",
      " 0.00770666 0.00303123 0.00187385 0.00481829 0.00192442 0.00453718\n",
      " 0.0017063  0.00326717 0.01804386 0.00652341 0.01027709 0.00286171\n",
      " 0.00345965 0.00311905 0.00254595 0.00644636 0.01142148 0.01155117\n",
      " 0.00824725 0.00179688 0.00451497 0.00263699 0.00342013 0.00739555\n",
      " 0.00227314 0.00257839 0.00381906 0.00251256 0.00663778 0.00953978\n",
      " 0.05356253 0.01741281 0.00386162 0.00125093 0.0004508  0.00427318\n",
      " 0.00043548 0.00926716 0.00892504 0.00068947]\n"
     ]
    },
    {
     "data": {
      "text/plain": [
       "0.5758486275783661"
      ]
     },
     "execution_count": 82,
     "metadata": {},
     "output_type": "execute_result"
    }
   ],
   "source": [
    "y_pred_complex = clf.predict(x_train_complex)\n",
    "print(confusion_matrix(y_train_complex, y_pred_complex))\n",
    "print(clf.feature_importances_)\n",
    "clf.score(x_train_complex, y_train_complex)"
   ]
  },
  {
   "cell_type": "code",
   "execution_count": null,
   "metadata": {},
   "outputs": [],
   "source": []
  },
  {
   "cell_type": "code",
   "execution_count": 76,
   "metadata": {},
   "outputs": [],
   "source": [
    "# x_valid_complex = []\n",
    "# y_valid_complex = []\n",
    "# for x,y in stem_generator_complex(stem_data, 'valid'):\n",
    "#     x_valid_complex.append(x)\n",
    "#     y_valid_complex.append(y)"
   ]
  },
  {
   "cell_type": "code",
   "execution_count": 69,
   "metadata": {},
   "outputs": [],
   "source": [
    "np.save('x_valid_complex.npy', x_valid_complex)\n",
    "np.save('y_valid_complex.npy', y_valid_complex)"
   ]
  },
  {
   "cell_type": "code",
   "execution_count": 83,
   "metadata": {},
   "outputs": [
    {
     "name": "stdout",
     "output_type": "stream",
     "text": [
      "[[488  22 374]\n",
      " [267  71 275]\n",
      " [267  20 670]]\n"
     ]
    },
    {
     "data": {
      "text/plain": [
       "array([0.00563679, 0.0021437 , 0.00332128, 0.00243337, 0.0054473 ,\n",
       "       0.00840963, 0.00267011, 0.0041245 , 0.01108343, 0.01820466,\n",
       "       0.0078198 , 0.00493733, 0.01390902, 0.00516285, 0.00735419,\n",
       "       0.00762272, 0.00274522, 0.00179628, 0.00553247, 0.00374264,\n",
       "       0.00415008, 0.00387098, 0.00187145, 0.01486469, 0.00665081,\n",
       "       0.01268141, 0.00525934, 0.00318908, 0.00663197, 0.00612564,\n",
       "       0.00393631, 0.00574721, 0.00411352, 0.01690424, 0.00628965,\n",
       "       0.00473104, 0.00356575, 0.02606471, 0.00418638, 0.00502797,\n",
       "       0.00300811, 0.00237915, 0.00410312, 0.00859576, 0.00724153,\n",
       "       0.00541538, 0.00780872, 0.00881269, 0.00756517, 0.00230449,\n",
       "       0.00197465, 0.00943779, 0.00226519, 0.00248119, 0.00216655,\n",
       "       0.00219015, 0.01083631, 0.00907668, 0.00484006, 0.00269004,\n",
       "       0.00243875, 0.00257848, 0.00259849, 0.02159921, 0.02175842,\n",
       "       0.02204182, 0.01430605, 0.00246815, 0.00306563, 0.00258195,\n",
       "       0.00220262, 0.00769968, 0.00156202, 0.00309451, 0.0106996 ,\n",
       "       0.00306624, 0.00736164, 0.00890806, 0.00720572, 0.00284459,\n",
       "       0.00279637, 0.00247245, 0.00271232, 0.00296284, 0.00189605,\n",
       "       0.00231713, 0.00642894, 0.010198  , 0.00798307, 0.00236098,\n",
       "       0.01588638, 0.00545584, 0.00374045, 0.00425529, 0.00239882,\n",
       "       0.00248319, 0.001749  , 0.00260219, 0.00254126, 0.00405052,\n",
       "       0.00220047, 0.00825339, 0.00512495, 0.00655845, 0.00554861,\n",
       "       0.0030266 , 0.00418526, 0.00371202, 0.00256361, 0.00760148,\n",
       "       0.00288933, 0.00653647, 0.00762979, 0.00749938, 0.00294601,\n",
       "       0.01406663, 0.00353   , 0.00242019, 0.00221871, 0.00264754,\n",
       "       0.00242821, 0.00706661, 0.00576543, 0.00219128, 0.00234285,\n",
       "       0.0059054 , 0.00770666, 0.00303123, 0.00187385, 0.00481829,\n",
       "       0.00192442, 0.00453718, 0.0017063 , 0.00326717, 0.01804386,\n",
       "       0.00652341, 0.01027709, 0.00286171, 0.00345965, 0.00311905,\n",
       "       0.00254595, 0.00644636, 0.01142148, 0.01155117, 0.00824725,\n",
       "       0.00179688, 0.00451497, 0.00263699, 0.00342013, 0.00739555,\n",
       "       0.00227314, 0.00257839, 0.00381906, 0.00251256, 0.00663778,\n",
       "       0.00953978, 0.05356253, 0.01741281, 0.00386162, 0.00125093,\n",
       "       0.0004508 , 0.00427318, 0.00043548, 0.00926716, 0.00892504,\n",
       "       0.00068947])"
      ]
     },
     "execution_count": 83,
     "metadata": {},
     "output_type": "execute_result"
    }
   ],
   "source": [
    "y_pred_complex = clf.predict(x_valid_complex)\n",
    "print(confusion_matrix(y_valid_complex, y_pred_complex))\n",
    "clf.feature_importances_"
   ]
  },
  {
   "cell_type": "code",
   "execution_count": 84,
   "metadata": {},
   "outputs": [
    {
     "name": "stdout",
     "output_type": "stream",
     "text": [
      "              precision    recall  f1-score   support\n",
      "\n",
      "           0       0.48      0.55      0.51       884\n",
      "           1       0.63      0.12      0.20       613\n",
      "           2       0.51      0.70      0.59       957\n",
      "\n",
      "    accuracy                           0.50      2454\n",
      "   macro avg       0.54      0.46      0.43      2454\n",
      "weighted avg       0.53      0.50      0.46      2454\n",
      "\n"
     ]
    }
   ],
   "source": [
    "print(classification_report(y_valid_complex, y_pred_complex))"
   ]
  },
  {
   "cell_type": "code",
   "execution_count": 85,
   "metadata": {},
   "outputs": [
    {
     "data": {
      "text/plain": [
       "0.5008149959250203"
      ]
     },
     "execution_count": 85,
     "metadata": {},
     "output_type": "execute_result"
    }
   ],
   "source": [
    "clf.score(x_valid_complex, y_valid_complex)"
   ]
  },
  {
   "cell_type": "code",
   "execution_count": null,
   "metadata": {},
   "outputs": [],
   "source": []
  },
  {
   "cell_type": "code",
   "execution_count": null,
   "metadata": {},
   "outputs": [],
   "source": [
    "## pulling out specific course embeddings\n",
    "core_courses = [108, 136, 196]   ## these are embedding ids\n",
    "baseline = stem_data.embedding[core_courses].sum(axis=0) #ID vector\n",
    "x_temp = stem_data.embedding + baseline.reshape(1,-1) / (1+len(core_courses))"
   ]
  },
  {
   "cell_type": "code",
   "execution_count": null,
   "metadata": {},
   "outputs": [],
   "source": [
    "pred = clf.predict(x_temp)\n",
    "dropout_courses = np.arange(len(stem_data.embedding))[pred==0]  # 0 is dropout?\n",
    "\n",
    "# pred_proba = clf.predict_proba(x_temp)"
   ]
  },
  {
   "cell_type": "code",
   "execution_count": null,
   "metadata": {},
   "outputs": [],
   "source": [
    "crs_id_to_course_name = dict(stem_data.crs_df[['agg_id', 'CRS_NM']].values)"
   ]
  },
  {
   "cell_type": "code",
   "execution_count": 27,
   "metadata": {},
   "outputs": [
    {
     "data": {
      "text/plain": [
       "1777"
      ]
     },
     "execution_count": 27,
     "metadata": {},
     "output_type": "execute_result"
    }
   ],
   "source": [
    "stem_data.course_to_id['11262.0']"
   ]
  },
  {
   "cell_type": "code",
   "execution_count": 29,
   "metadata": {},
   "outputs": [
    {
     "name": "stdout",
     "output_type": "stream",
     "text": [
      "136\n",
      "31133.0\n"
     ]
    }
   ],
   "source": [
    "## this gives the embedding id for the course\n",
    "print(stem_data.course_to_id[stem_data.name_to_course['MATH-M211']])\n",
    "## name_to_course returns the course ID (agg_id) of for the given course\n",
    "print(stem_data.name_to_course['MATH-M211'])"
   ]
  },
  {
   "cell_type": "code",
   "execution_count": null,
   "metadata": {},
   "outputs": [],
   "source": [
    "crs_id_to_course_name['11262.0']"
   ]
  },
  {
   "cell_type": "markdown",
   "metadata": {},
   "source": [
    "## socio-demo only RF"
   ]
  },
  {
   "cell_type": "code",
   "execution_count": null,
   "metadata": {},
   "outputs": [],
   "source": [
    "x_train_demo = []\n",
    "y_train_demo = []\n",
    "for x,y in stem_data.socio_demo_generator_complex('train'):\n",
    "    x_train_demo.append(x)\n",
    "    y_train_demo.append(y)"
   ]
  },
  {
   "cell_type": "code",
   "execution_count": null,
   "metadata": {},
   "outputs": [],
   "source": [
    "x_train_demo = np.array(x_train_demo)\n",
    "y_train_demo = np.array(y_train_demo)\n",
    "print(x_train_demo.shape)\n",
    "print(x_train_demo.dtype)\n",
    "print(y_train_demo.shape)\n",
    "\n",
    "clf = RandomForestClassifier()\n",
    "clf.fit(x_train_demo, y_train_demo)"
   ]
  },
  {
   "cell_type": "code",
   "execution_count": null,
   "metadata": {},
   "outputs": [],
   "source": [
    "y_pred_demo = clf.predict(x_train_demo)\n",
    "print(confusion_matrix(y_train_demo, y_pred_demo))\n",
    "clf.feature_importances_\n",
    "clf.score(x_train_demo, y_train_demo)"
   ]
  },
  {
   "cell_type": "code",
   "execution_count": null,
   "metadata": {},
   "outputs": [],
   "source": []
  },
  {
   "cell_type": "code",
   "execution_count": null,
   "metadata": {},
   "outputs": [],
   "source": [
    "x_valid_demo = []\n",
    "y_valid_demo = []\n",
    "for x,y in stem_data.socio_demo_generator_complex('valid'):\n",
    "    x_valid_demo.append(x)\n",
    "    y_valid_demo.append(y)"
   ]
  },
  {
   "cell_type": "code",
   "execution_count": null,
   "metadata": {},
   "outputs": [],
   "source": [
    "y_pred_demo = clf.predict(x_valid_demo)\n",
    "print(confusion_matrix(y_valid_demo, y_pred_demo))\n",
    "clf.feature_importances_"
   ]
  },
  {
   "cell_type": "code",
   "execution_count": null,
   "metadata": {},
   "outputs": [],
   "source": [
    "clf.score(x_valid_demo, y_valid_demo)"
   ]
  },
  {
   "cell_type": "code",
   "execution_count": null,
   "metadata": {},
   "outputs": [],
   "source": [
    "print(stem_data.student_attr_df['URM_FLAG'].count())\n",
    "print(stem_data.student_attr_df['URM_FLAG'].value_counts())\n",
    "print(stem_data.student_attr_df['URM_FLAG'].unique())"
   ]
  },
  {
   "cell_type": "code",
   "execution_count": null,
   "metadata": {},
   "outputs": [],
   "source": [
    "# def socio_demo_generator_complex(self):\n",
    "#     for (student, term), df in self.crs_df_valid.groupby(['PRSN_UNIV_ID','ACAD_TERM_CD']):\n",
    "#         df = df[~df['CRS_OFCL_GRD_NBR'].isna()]\n",
    "#         courses_set = df['embedding_index'] \n",
    "#         if len(courses_set) > 1:        \n",
    "#             row = self.stu_attribute_and_retention_df[self.stu_attribute_and_retention_df['PRSN_UNIV_ID']==student]        \n",
    "#             ethnicity_onehot = np.eye(len(self.ethnicity_id))[row['ethnicity_id']][0]\n",
    "#             urm_onehot = np.eye(len(self.urm_flag_id))[row['urm_flag_id']][0]\n",
    "#             gender_onehot = np.eye(len(self.gender_id))[row['gender_id']][0]\n",
    "#             pell_eligibility = row['pell_eligibility_id']\n",
    "            \n",
    "#             x = np.concatenate([ethnicity_onehot, urm_onehot, gender_onehot, pell_eligibility])          \n",
    "#             student_status = row[['BA_DEGREE_RECEIVED', 'STEM_start', 'STEM_end']].values[0]\n",
    "#             if student_status[1] == 0:\n",
    "#                 continue\n",
    "#             if student_status[0] == 0:\n",
    "#                 y = 0 ## case 0 is degree non-completer\n",
    "#             else:\n",
    "#                 if student_status[2] == 0:\n",
    "#                     y = 1 ## case 1 STEM non-completer\n",
    "#                 else:\n",
    "#                     y = 2 ## case 2 STEM completer\n",
    "#             yield x, y"
   ]
  },
  {
   "cell_type": "code",
   "execution_count": null,
   "metadata": {},
   "outputs": [],
   "source": [
    "print(len(stem_data.ethnicity_id))\n",
    "print(len(stem_data.urm_flag_id))\n",
    "print(len(stem_data.gender_id))\n",
    "print(len(stem_data.pell_eligibility_id))\n"
   ]
  },
  {
   "cell_type": "code",
   "execution_count": null,
   "metadata": {},
   "outputs": [],
   "source": [
    "# self.gpao_id = list(self.crs_df['GPAO'].unique())\n",
    "# self.gpao_to_id = dict([(gpao, i) for i, gpao in enumerate(self.gpao_id)])\n",
    "# self.course_grade_id = list(self.crs_df['CRS_OFCL_GRD_NBR'].unique())\n",
    "# self.course_grade_to_id = dict([(grade, i) for i, grade in enumerate(self.course_grade_id)])\n",
    "# self.credit_hrs_id = list(self.crs_df['ACAD_UNT_TKN_NBR'].unique())\n",
    "# self.credit_hrs_to_id = dict([(hours, i) for i, hours in enumerate(self.credit_hrs_id)])\n",
    "\n",
    "# self.crs_df['gpao_id'] = self.crs_df['GPAO'].map(self.gpao_to_id)\n",
    "# self.crs_df['course_grade_id'] = self.crs_df['CRS_OFCL_GRD_NBR'].map(self.course_grade_to_id)\n",
    "# self.crs_df['credit_hrs_id'] = self.crs_df['ACAD_UNT_TKN_NBR'].map(self.credit_hrs_to_id)\n",
    "\n",
    "self.sat_id = list(self.student_attr_df['SAT_DRVD_COMPOSITE_SCORE_2019'].unique())\n",
    "self.sat_to_id = dict([(sat, i) for i, sat in enumerate(self.sat_id)])\n",
    "\n",
    "\n",
    "self.student_attr_df['sat_id'] = self.student_attr_df['SAT_DRVD_COMPOSITE_SCORE_2019'].map(self.sat_to_id)"
   ]
  },
  {
   "cell_type": "code",
   "execution_count": null,
   "metadata": {},
   "outputs": [],
   "source": [
    "print(stem_data.crs_df['GPAO'].isnull().value_counts())\n",
    "print(stem_data.crs_df['GPAO'].nunique())\n",
    "print(stem_data.crs_df['GPAO'].count())\n",
    "stem_data.crs_df['GPAO'].value_counts()"
   ]
  },
  {
   "cell_type": "code",
   "execution_count": null,
   "metadata": {},
   "outputs": [],
   "source": [
    "print(stem_data.crs_df['CRS_OFCL_GRD_NBR'].isnull().value_counts())\n",
    "print(stem_data.crs_df['CRS_OFCL_GRD_NBR'].nunique())\n",
    "print(stem_data.crs_df['CRS_OFCL_GRD_NBR'].count())\n",
    "stem_data.crs_df['CRS_OFCL_GRD_NBR'].value_counts()"
   ]
  },
  {
   "cell_type": "code",
   "execution_count": null,
   "metadata": {},
   "outputs": [],
   "source": [
    "print(stem_data.crs_df['ACAD_UNT_TKN_NBR'].isnull().value_counts())\n",
    "print(stem_data.crs_df['ACAD_UNT_TKN_NBR'].nunique())\n",
    "print(stem_data.crs_df['ACAD_UNT_TKN_NBR'].count())\n",
    "stem_data.crs_df['ACAD_UNT_TKN_NBR'].value_counts()"
   ]
  },
  {
   "cell_type": "code",
   "execution_count": null,
   "metadata": {},
   "outputs": [],
   "source": [
    "stem_data.student_attr_df.columns"
   ]
  },
  {
   "cell_type": "code",
   "execution_count": null,
   "metadata": {},
   "outputs": [],
   "source": [
    "print(stem_data.student_attr_df['SAT_DRVD_COMPOSITE_SCORE_2019'].isnull().value_counts())\n",
    "print(stem_data.student_attr_df['SAT_DRVD_COMPOSITE_SCORE_2019'].nunique())\n",
    "print(stem_data.student_attr_df['SAT_DRVD_COMPOSITE_SCORE_2019'].count())\n",
    "print(stem_data.student_attr_df['SAT_DRVD_COMPOSITE_SCORE_2019'].value_counts())\n",
    "\n",
    "# print(stem_data.student_attr_df['SAT_ACT_INDICATOR'].isnull().value_counts())\n",
    "# print(stem_data.student_attr_df['SAT_ACT_INDICATOR'].nunique())\n",
    "# print(stem_data.student_attr_df['SAT_ACT_INDICATOR'].count())\n",
    "# stem_data.student_attr_df['SAT_ACT_INDICATOR'].value_counts()"
   ]
  },
  {
   "cell_type": "code",
   "execution_count": null,
   "metadata": {},
   "outputs": [],
   "source": [
    "#stem_data.student_attr_df['STEM_start'] = stem_data.student_attr_df['ENTRY_MAJOR_DESC'].isin(stem_major_df)"
   ]
  },
  {
   "cell_type": "code",
   "execution_count": null,
   "metadata": {},
   "outputs": [],
   "source": [
    "#stem_data.student_attr_df.head()"
   ]
  },
  {
   "cell_type": "code",
   "execution_count": null,
   "metadata": {},
   "outputs": [],
   "source": []
  },
  {
   "cell_type": "code",
   "execution_count": null,
   "metadata": {},
   "outputs": [],
   "source": []
  },
  {
   "cell_type": "code",
   "execution_count": null,
   "metadata": {},
   "outputs": [],
   "source": [
    "#list(student_retention.columns)\n",
    "#stem_data.student_attr_df[stem_data.student_attr_df['ENTRY_MAJOR_DESC']=='Economics BA']"
   ]
  },
  {
   "cell_type": "code",
   "execution_count": null,
   "metadata": {},
   "outputs": [],
   "source": [
    "def major_and_school_helper(df):\n",
    "    return df[['ENTRY_INTENDED_SCHOOL','ENTRY_MAJOR_DESC']].iloc[-1]\n",
    "#stem_data.student_attr_df.iloc[51:100].groupby('PRSN_UNIV_ID').apply(major_and_school_helper)"
   ]
  },
  {
   "cell_type": "code",
   "execution_count": null,
   "metadata": {},
   "outputs": [],
   "source": [
    "print(stu_retention_df['DEGREE_MAJOR1'].isnull().sum())\n",
    "stu_retention_df['BA_DEGREE_RECEIVED'].isnull().sum()"
   ]
  },
  {
   "cell_type": "code",
   "execution_count": null,
   "metadata": {},
   "outputs": [],
   "source": [
    "stu_retention_df['DEGREE_MAJOR2'].isnull().value_counts()"
   ]
  },
  {
   "cell_type": "code",
   "execution_count": null,
   "metadata": {},
   "outputs": [],
   "source": [
    "stu_retention_df['DEGREE_MAJOR3'].isnull().value_counts()"
   ]
  },
  {
   "cell_type": "code",
   "execution_count": null,
   "metadata": {},
   "outputs": [],
   "source": [
    "stem_data.student_attr_df['ENTRY_INTENDED_SCHOOL'].isnull().sum()"
   ]
  },
  {
   "cell_type": "code",
   "execution_count": null,
   "metadata": {},
   "outputs": [],
   "source": [
    "print(stem_data.crs_df[stem_data.crs_df['PRSN_UNIV_ID']==1996190])\n",
    "stem_data.crs_df['PRSN_UNIV_ID'][7000]"
   ]
  },
  {
   "cell_type": "code",
   "execution_count": null,
   "metadata": {},
   "outputs": [],
   "source": []
  },
  {
   "cell_type": "code",
   "execution_count": null,
   "metadata": {},
   "outputs": [],
   "source": []
  },
  {
   "cell_type": "code",
   "execution_count": null,
   "metadata": {},
   "outputs": [],
   "source": []
  },
  {
   "cell_type": "code",
   "execution_count": null,
   "metadata": {},
   "outputs": [],
   "source": [
    "#stem_data.student_attr_df.iloc[0]\n",
    "print(stem_data.student_attr_df['ENTRY_MAJOR_CODE'].isnull().sum())\n",
    "print(stem_data.student_attr_df['ENTRY_INTENDED_SCHOOL'].isnull().sum())\n",
    "stem_data.student_attr_df['ENTRY_MAJOR_DESC'].isnull().sum()"
   ]
  },
  {
   "cell_type": "code",
   "execution_count": null,
   "metadata": {},
   "outputs": [],
   "source": [
    "## this takes in a course id and finds its associated course name\n",
    "def course_to_label(course):\n",
    "    return stem_data.crs_df[stem_data.crs_df['agg_id']==course].iloc[0]['CRS_NM']"
   ]
  },
  {
   "cell_type": "code",
   "execution_count": null,
   "metadata": {},
   "outputs": [],
   "source": [
    "course_to_label(stem_data.embedding_id[210])"
   ]
  },
  {
   "cell_type": "code",
   "execution_count": null,
   "metadata": {},
   "outputs": [],
   "source": [
    "dept_with_orphans = stem_data.crs_df[stem_data.crs_df['agg_id']==stem_data.crs_df['CRS_SUBJ_DEPT_CD']]['agg_id'].unique()\n",
    "stem_data.course_to_id['other_dept']"
   ]
  },
  {
   "cell_type": "code",
   "execution_count": null,
   "metadata": {},
   "outputs": [],
   "source": [
    "## argsort gives us courses that are similar in the order of least like to most like of all the embedding ids\n",
    "np.argsort(model_embeddings[3]@model_embeddings.T)\n",
    "print(course_to_label(stem_data.embedding_id[4]))\n",
    "print(course_to_label(stem_data.embedding_id[123]))"
   ]
  },
  {
   "cell_type": "code",
   "execution_count": null,
   "metadata": {},
   "outputs": [],
   "source": [
    "## this gives the cosine similarity (dot) for two courses.  the larger the number the higher the correlation,\n",
    "## negative value means anticorrelated. zero means no correlation.\n",
    "## we will need to normalize the vectors at some point.\n",
    "model_embeddings[3]@model_embeddings[123]"
   ]
  },
  {
   "cell_type": "code",
   "execution_count": 31,
   "metadata": {},
   "outputs": [],
   "source": [
    "def course_cosine_similarity(course1, course2):\n",
    "    crs1 = course_to_label(stem_data.embedding_id[course1])\n",
    "    crs2 = course_to_label(stem_data.embedding_id[course2])\n",
    "    vec_1 = model_embeddings[course1]\n",
    "    vec_2 = model_embeddings[course2]\n",
    "    correlation = np.dot(vec_1, vec_2)/np.linalg.norm(vec_1)/np.linalg.norm(vec_2)\n",
    "    \n",
    "    return crs1, crs2, correlation     "
   ]
  },
  {
   "cell_type": "code",
   "execution_count": 32,
   "metadata": {},
   "outputs": [
    {
     "ename": "NameError",
     "evalue": "name 'course_to_label' is not defined",
     "output_type": "error",
     "traceback": [
      "\u001b[0;31m---------------------------------------------------------------------------\u001b[0m",
      "\u001b[0;31mNameError\u001b[0m                                 Traceback (most recent call last)",
      "\u001b[0;32m<ipython-input-32-c3f94e2bd7d8>\u001b[0m in \u001b[0;36m<module>\u001b[0;34m\u001b[0m\n\u001b[0;32m----> 1\u001b[0;31m \u001b[0mcourse_cosine_similarity\u001b[0m\u001b[0;34m(\u001b[0m\u001b[0;36m136\u001b[0m\u001b[0;34m,\u001b[0m\u001b[0;36m3026\u001b[0m\u001b[0;34m)\u001b[0m\u001b[0;34m\u001b[0m\u001b[0;34m\u001b[0m\u001b[0m\n\u001b[0m",
      "\u001b[0;32m<ipython-input-31-af422a122743>\u001b[0m in \u001b[0;36mcourse_cosine_similarity\u001b[0;34m(course1, course2)\u001b[0m\n\u001b[1;32m      1\u001b[0m \u001b[0;32mdef\u001b[0m \u001b[0mcourse_cosine_similarity\u001b[0m\u001b[0;34m(\u001b[0m\u001b[0mcourse1\u001b[0m\u001b[0;34m,\u001b[0m \u001b[0mcourse2\u001b[0m\u001b[0;34m)\u001b[0m\u001b[0;34m:\u001b[0m\u001b[0;34m\u001b[0m\u001b[0;34m\u001b[0m\u001b[0m\n\u001b[0;32m----> 2\u001b[0;31m     \u001b[0mcrs1\u001b[0m \u001b[0;34m=\u001b[0m \u001b[0mcourse_to_label\u001b[0m\u001b[0;34m(\u001b[0m\u001b[0mstem_data\u001b[0m\u001b[0;34m.\u001b[0m\u001b[0membedding_id\u001b[0m\u001b[0;34m[\u001b[0m\u001b[0mcourse1\u001b[0m\u001b[0;34m]\u001b[0m\u001b[0;34m)\u001b[0m\u001b[0;34m\u001b[0m\u001b[0;34m\u001b[0m\u001b[0m\n\u001b[0m\u001b[1;32m      3\u001b[0m     \u001b[0mcrs2\u001b[0m \u001b[0;34m=\u001b[0m \u001b[0mcourse_to_label\u001b[0m\u001b[0;34m(\u001b[0m\u001b[0mstem_data\u001b[0m\u001b[0;34m.\u001b[0m\u001b[0membedding_id\u001b[0m\u001b[0;34m[\u001b[0m\u001b[0mcourse2\u001b[0m\u001b[0;34m]\u001b[0m\u001b[0;34m)\u001b[0m\u001b[0;34m\u001b[0m\u001b[0;34m\u001b[0m\u001b[0m\n\u001b[1;32m      4\u001b[0m     \u001b[0mvec_1\u001b[0m \u001b[0;34m=\u001b[0m \u001b[0mmodel_embeddings\u001b[0m\u001b[0;34m[\u001b[0m\u001b[0mcourse1\u001b[0m\u001b[0;34m]\u001b[0m\u001b[0;34m\u001b[0m\u001b[0;34m\u001b[0m\u001b[0m\n\u001b[1;32m      5\u001b[0m     \u001b[0mvec_2\u001b[0m \u001b[0;34m=\u001b[0m \u001b[0mmodel_embeddings\u001b[0m\u001b[0;34m[\u001b[0m\u001b[0mcourse2\u001b[0m\u001b[0;34m]\u001b[0m\u001b[0;34m\u001b[0m\u001b[0;34m\u001b[0m\u001b[0m\n",
      "\u001b[0;31mNameError\u001b[0m: name 'course_to_label' is not defined"
     ]
    }
   ],
   "source": [
    "course_cosine_similarity(136,3026)"
   ]
  },
  {
   "cell_type": "code",
   "execution_count": null,
   "metadata": {},
   "outputs": [],
   "source": [
    "def course_correlation(crs):\n",
    "    correlation = np.argsort(model_embeddings[crs]@model_embeddings.T)\n",
    "    #name = course_to_label(stem_data.embedding_id[course1])\n",
    "    vec_1 = model_embeddings[crs]\n",
    "    correlation = np.dot(model_embeddings, vec_1)/np.linalg.norm(vec_1)/np.linalg.norm(model_embeddings, axis=1)\n",
    "    #return list(sorted(correlation))[-20:]\n",
    "    highest_matches = np.argsort(correlation)[-10:]\n",
    "    for i in highest_matches:\n",
    "        print(i, course_to_label(stem_data.embedding_id[i]), correlation[i])\n",
    "        #return(vec_1, i, course_to_label(stem_data.embedding_id[i]), correlation[i])\n",
    "        \n",
    "    lowest_matches = np.argsort(correlation)[:10]\n",
    "    for i in lowest_matches:\n",
    "        print(i, course_to_label(stem_data.embedding_id[i]), correlation[i])\n",
    "        #return(vec_1, i, course_to_label(stem_data.embedding_id[i]), correlation[i])"
   ]
  },
  {
   "cell_type": "code",
   "execution_count": null,
   "metadata": {},
   "outputs": [],
   "source": [
    "#normalized_embeddings = model_embeddings/np.linalg.norm(model_embeddings, axis=1)"
   ]
  },
  {
   "cell_type": "code",
   "execution_count": null,
   "metadata": {},
   "outputs": [],
   "source": [
    "name_to_course = dict(stem_data.crs_df[['CRS_NM','agg_id']].values)"
   ]
  },
  {
   "cell_type": "code",
   "execution_count": 30,
   "metadata": {},
   "outputs": [
    {
     "ename": "NameError",
     "evalue": "name 'course_cosine_similarity' is not defined",
     "output_type": "error",
     "traceback": [
      "\u001b[0;31m---------------------------------------------------------------------------\u001b[0m",
      "\u001b[0;31mNameError\u001b[0m                                 Traceback (most recent call last)",
      "\u001b[0;32m<ipython-input-30-273356c7ae5a>\u001b[0m in \u001b[0;36m<module>\u001b[0;34m\u001b[0m\n\u001b[0;32m----> 1\u001b[0;31m \u001b[0mcourse_cosine_similarity\u001b[0m\u001b[0;34m(\u001b[0m\u001b[0;36m3225\u001b[0m\u001b[0;34m,\u001b[0m\u001b[0;36m5511\u001b[0m\u001b[0;34m)\u001b[0m\u001b[0;34m\u001b[0m\u001b[0;34m\u001b[0m\u001b[0m\n\u001b[0m",
      "\u001b[0;31mNameError\u001b[0m: name 'course_cosine_similarity' is not defined"
     ]
    }
   ],
   "source": [
    "course_cosine_similarity(3225,5511)"
   ]
  },
  {
   "cell_type": "code",
   "execution_count": null,
   "metadata": {},
   "outputs": [],
   "source": [
    "dif_a = model_embeddings[1122]-model_embeddings[2188]\n",
    "dif_b = model_embeddings[1617]-model_embeddings[85]\n",
    "#dif_c = model_embeddings[84]-model_embeddings[869]"
   ]
  },
  {
   "cell_type": "code",
   "execution_count": null,
   "metadata": {},
   "outputs": [],
   "source": [
    "np.dot(dif_a, dif_b)/np.linalg.norm(dif_a)/np.linalg.norm(dif_b)"
   ]
  },
  {
   "cell_type": "code",
   "execution_count": null,
   "metadata": {},
   "outputs": [],
   "source": [
    "df_model_embeddings = pd.DataFrame(model_embeddings[[3026,5303,290,3225,5881,280,2188,1195,333,3425]].T,\n",
    "                                                    columns=['CSCI-C241','CSCI-H241','CSCI-A290','CSCI-B351',\n",
    "                                                    'CSCI-B365','BUS-F260','FRIT-M200','MATH-M301','MATH-M303',\n",
    "                                                    'MATH-S311'])                                                                                                                                               "
   ]
  },
  {
   "cell_type": "code",
   "execution_count": null,
   "metadata": {},
   "outputs": [],
   "source": [
    "#df_model_embeddings.corr()\n",
    "#df_model_embeddings.corr().to_csv('CHEM_BS_FIRST4SEM_UGcurr',index=True, sep='\\t')"
   ]
  },
  {
   "cell_type": "code",
   "execution_count": null,
   "metadata": {},
   "outputs": [],
   "source": [
    "#kot = corr[corr>=.2]\n",
    "# sb.set(context='notebook', style='white', palette='deep', font='Avenir', font_scale=1.2, color_codes=True, rc=None)\n",
    "# plt.figure(figsize=(12,10))\n",
    "# plt.title('Third Semester Math and Computer Science course cosine similarities')\n",
    "# sb.heatmap(df_model_embeddings.corr(), annot=True, cmap='Greens')"
   ]
  },
  {
   "cell_type": "code",
   "execution_count": null,
   "metadata": {},
   "outputs": [],
   "source": [
    "student_attr = pd.read_excel('/Users/rsciagli/documents/Fall2020/BAR/student_attribute_table_full.xlsx')"
   ]
  },
  {
   "cell_type": "code",
   "execution_count": null,
   "metadata": {},
   "outputs": [],
   "source": [
    "stem_data.student_attr_df.columns"
   ]
  },
  {
   "cell_type": "code",
   "execution_count": null,
   "metadata": {},
   "outputs": [],
   "source": [
    "student_attr_df = pd.DataFrame(student_attr)"
   ]
  },
  {
   "cell_type": "code",
   "execution_count": null,
   "metadata": {},
   "outputs": [],
   "source": [
    "student_attr_df['ENTRY_MAJOR_DESC']"
   ]
  },
  {
   "cell_type": "code",
   "execution_count": null,
   "metadata": {},
   "outputs": [],
   "source": []
  },
  {
   "cell_type": "code",
   "execution_count": null,
   "metadata": {},
   "outputs": [],
   "source": []
  },
  {
   "cell_type": "code",
   "execution_count": null,
   "metadata": {},
   "outputs": [],
   "source": [
    "#stem_data.student_attr_df[stem_data.student_attr_df['ETHNICITY']=='NOANSWER']"
   ]
  },
  {
   "cell_type": "code",
   "execution_count": null,
   "metadata": {},
   "outputs": [],
   "source": [
    "# relocated_null_ethnicity = stem_data.student_attr_df[stem_data.student_attr_df['agg_id']==stem_data.student_attr_df['CRS_SUBJ_DEPT_CD']]['agg_id'].unique()\n",
    "\n",
    "#null_ethnicity = stem_data.student_attr_df['ETHNICITY'].isnull()\n",
    "stem_data.student_attr_df['ETHNICITY'] = np.where(stem_data.student_attr_df['ETHNICITY'].isnull(), \n",
    "                                                  'NOANSWER', stem_data.student_attr_df['ETHNICITY'])\n",
    "    "
   ]
  },
  {
   "cell_type": "code",
   "execution_count": null,
   "metadata": {},
   "outputs": [],
   "source": [
    "## I want to collapse \n",
    "print(stem_data.student_attr_df['ETHNICITY'].count())\n",
    "print(stem_data.student_attr_df['ETHNICITY'].value_counts())\n",
    "print(stem_data.student_attr_df['ETHNICITY'].unique())\n"
   ]
  },
  {
   "cell_type": "code",
   "execution_count": null,
   "metadata": {},
   "outputs": [],
   "source": [
    "ethnicity_id = list(student_attr_df['ETHNICITY'].unique())\n",
    "ethnicity_to_id = dict([(ethnicity, i) for i, ethnicity in enumerate(ethnicity_id)])"
   ]
  },
  {
   "cell_type": "code",
   "execution_count": null,
   "metadata": {},
   "outputs": [],
   "source": [
    "stem_data.student_attr_df['PELL_ELIGIBILITY'].isnull().sum()"
   ]
  },
  {
   "cell_type": "code",
   "execution_count": null,
   "metadata": {},
   "outputs": [],
   "source": [
    "urm_flag_id = list(student_attr_df['URM_FLAG'].unique())\n",
    "urm_flag_to_id = dict([(urm, i) for i, urm in enumerate(urm_flag_id)])"
   ]
  },
  {
   "cell_type": "code",
   "execution_count": null,
   "metadata": {},
   "outputs": [],
   "source": [
    "gender_id = list(student_attr_df['GENDER'].unique())\n",
    "gender_to_id = dict([(gender, i) for i, gender in enumerate(gender_id)])"
   ]
  },
  {
   "cell_type": "code",
   "execution_count": null,
   "metadata": {},
   "outputs": [],
   "source": [
    "stem_data.student_attr_df['GENDER'].value_counts()"
   ]
  },
  {
   "cell_type": "code",
   "execution_count": null,
   "metadata": {},
   "outputs": [],
   "source": [
    "pell_eligibility_id = list(student_attr_df['PELL_ELIGIBILITY'].unique())\n",
    "pell_status_to_id = dict([(status, i) for i, status in enumerate(pell_eligibility_id)])"
   ]
  },
  {
   "cell_type": "code",
   "execution_count": null,
   "metadata": {},
   "outputs": [],
   "source": [
    "stem_data.student_attr_df['PELL_ELIGIBILITY'].nunique()"
   ]
  },
  {
   "cell_type": "code",
   "execution_count": null,
   "metadata": {},
   "outputs": [],
   "source": [
    "major_id = list(student_attr_df['ENTRY_MAJOR_DESC'].unique())\n",
    "major_to_id = dict([(major, i) for i, major in enumerate(major_id)])\n",
    "\n",
    "intended_school_id = list(student_attr_df['ENTRY_INTENDED_SCHOOL'].unique())\n",
    "indended_school_to_id = dict([(pre_major, i) for i, pre_major in enumerate(intended_school_id)])"
   ]
  },
  {
   "cell_type": "code",
   "execution_count": null,
   "metadata": {},
   "outputs": [],
   "source": []
  },
  {
   "cell_type": "code",
   "execution_count": null,
   "metadata": {},
   "outputs": [],
   "source": [
    "student_major = pd.read_csv('/Users/rsciagli/documents/Fall2020/BAR/STU_MAJOR_TABLE_full.csv')\n",
    "student_major.head()"
   ]
  },
  {
   "cell_type": "code",
   "execution_count": null,
   "metadata": {},
   "outputs": [],
   "source": []
  }
 ],
 "metadata": {
  "kernelspec": {
   "display_name": "Python 3",
   "language": "python",
   "name": "python3"
  },
  "language_info": {
   "codemirror_mode": {
    "name": "ipython",
    "version": 3
   },
   "file_extension": ".py",
   "mimetype": "text/x-python",
   "name": "python",
   "nbconvert_exporter": "python",
   "pygments_lexer": "ipython3",
   "version": "3.7.6"
  }
 },
 "nbformat": 4,
 "nbformat_minor": 4
}
